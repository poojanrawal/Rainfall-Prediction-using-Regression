{
  "cells": [
    {
      "cell_type": "markdown",
      "source": [
        "**Problem- Statement** : Build an efficient Regression Model that should predict the amount of Rainfall, using the dataset Rain in Australia."
      ],
      "metadata": {
        "id": "s20YUThafros"
      }
    },
    {
      "cell_type": "code",
      "execution_count": null,
      "metadata": {
        "colab": {
          "base_uri": "https://localhost:8080/"
        },
        "id": "JAAiHpAz1odY",
        "outputId": "8c1145ca-f165-44c8-9be4-17a26d5d49c3"
      },
      "outputs": [
        {
          "output_type": "stream",
          "name": "stdout",
          "text": [
            "Mounted at /content/drive\n"
          ]
        }
      ],
      "source": [
        "from google.colab import drive\n",
        "drive.mount('/content/drive')"
      ]
    },
    {
      "cell_type": "markdown",
      "source": [
        "# **Loading Data and Importing Libraries**"
      ],
      "metadata": {
        "id": "mWfo7MnurwHE"
      }
    },
    {
      "cell_type": "code",
      "execution_count": null,
      "metadata": {
        "id": "joK_JPGI1352"
      },
      "outputs": [],
      "source": [
        "import pandas as pd\n",
        "import numpy as np \n",
        "import matplotlib.pyplot as plt\n",
        "import seaborn as sns\n",
        "import warnings\n",
        "from sklearn import metrics\n",
        "warnings.filterwarnings(\"ignore\")\n",
        "path=\"/content/drive/MyDrive/Project/weatherAUS.csv\"\n",
        "df = pd.read_csv(path)\n",
        "\n",
        "#Dataset is now stored in a Pandas Dataframe"
      ]
    },
    {
      "cell_type": "markdown",
      "source": [
        "# **Exploring and Visualizing Data**"
      ],
      "metadata": {
        "id": "hyC69l-8sA9g"
      }
    },
    {
      "cell_type": "code",
      "execution_count": null,
      "metadata": {
        "colab": {
          "base_uri": "https://localhost:8080/"
        },
        "id": "xjjq3ruM15fh",
        "outputId": "bf0534d8-7204-43bb-edc6-64d460d1c520"
      },
      "outputs": [
        {
          "output_type": "execute_result",
          "data": {
            "text/plain": [
              "(145460, 23)"
            ]
          },
          "metadata": {},
          "execution_count": 3
        }
      ],
      "source": [
        "# Shape of the data frame\n",
        "df.shape"
      ]
    },
    {
      "cell_type": "code",
      "execution_count": null,
      "metadata": {
        "colab": {
          "base_uri": "https://localhost:8080/"
        },
        "id": "gHvPDjCn18qW",
        "outputId": "bc070331-c3c9-4310-82d5-8de348890070"
      },
      "outputs": [
        {
          "output_type": "execute_result",
          "data": {
            "text/plain": [
              "         Date Location  MinTemp  MaxTemp  Rainfall  Evaporation  Sunshine  \\\n",
              "0  2008-12-01   Albury     13.4     22.9       0.6          NaN       NaN   \n",
              "1  2008-12-02   Albury      7.4     25.1       0.0          NaN       NaN   \n",
              "2  2008-12-03   Albury     12.9     25.7       0.0          NaN       NaN   \n",
              "3  2008-12-04   Albury      9.2     28.0       0.0          NaN       NaN   \n",
              "4  2008-12-05   Albury     17.5     32.3       1.0          NaN       NaN   \n",
              "\n",
              "  WindGustDir  WindGustSpeed WindDir9am  ... Humidity9am  Humidity3pm  \\\n",
              "0           W           44.0          W  ...        71.0         22.0   \n",
              "1         WNW           44.0        NNW  ...        44.0         25.0   \n",
              "2         WSW           46.0          W  ...        38.0         30.0   \n",
              "3          NE           24.0         SE  ...        45.0         16.0   \n",
              "4           W           41.0        ENE  ...        82.0         33.0   \n",
              "\n",
              "   Pressure9am  Pressure3pm  Cloud9am  Cloud3pm  Temp9am  Temp3pm  RainToday  \\\n",
              "0       1007.7       1007.1       8.0       NaN     16.9     21.8         No   \n",
              "1       1010.6       1007.8       NaN       NaN     17.2     24.3         No   \n",
              "2       1007.6       1008.7       NaN       2.0     21.0     23.2         No   \n",
              "3       1017.6       1012.8       NaN       NaN     18.1     26.5         No   \n",
              "4       1010.8       1006.0       7.0       8.0     17.8     29.7         No   \n",
              "\n",
              "   RainTomorrow  \n",
              "0            No  \n",
              "1            No  \n",
              "2            No  \n",
              "3            No  \n",
              "4            No  \n",
              "\n",
              "[5 rows x 23 columns]"
            ],
            "text/html": [
              "\n",
              "  <div id=\"df-a0cc1803-db5a-4694-b74c-1dd2feec40d6\">\n",
              "    <div class=\"colab-df-container\">\n",
              "      <div>\n",
              "<style scoped>\n",
              "    .dataframe tbody tr th:only-of-type {\n",
              "        vertical-align: middle;\n",
              "    }\n",
              "\n",
              "    .dataframe tbody tr th {\n",
              "        vertical-align: top;\n",
              "    }\n",
              "\n",
              "    .dataframe thead th {\n",
              "        text-align: right;\n",
              "    }\n",
              "</style>\n",
              "<table border=\"1\" class=\"dataframe\">\n",
              "  <thead>\n",
              "    <tr style=\"text-align: right;\">\n",
              "      <th></th>\n",
              "      <th>Date</th>\n",
              "      <th>Location</th>\n",
              "      <th>MinTemp</th>\n",
              "      <th>MaxTemp</th>\n",
              "      <th>Rainfall</th>\n",
              "      <th>Evaporation</th>\n",
              "      <th>Sunshine</th>\n",
              "      <th>WindGustDir</th>\n",
              "      <th>WindGustSpeed</th>\n",
              "      <th>WindDir9am</th>\n",
              "      <th>...</th>\n",
              "      <th>Humidity9am</th>\n",
              "      <th>Humidity3pm</th>\n",
              "      <th>Pressure9am</th>\n",
              "      <th>Pressure3pm</th>\n",
              "      <th>Cloud9am</th>\n",
              "      <th>Cloud3pm</th>\n",
              "      <th>Temp9am</th>\n",
              "      <th>Temp3pm</th>\n",
              "      <th>RainToday</th>\n",
              "      <th>RainTomorrow</th>\n",
              "    </tr>\n",
              "  </thead>\n",
              "  <tbody>\n",
              "    <tr>\n",
              "      <th>0</th>\n",
              "      <td>2008-12-01</td>\n",
              "      <td>Albury</td>\n",
              "      <td>13.4</td>\n",
              "      <td>22.9</td>\n",
              "      <td>0.6</td>\n",
              "      <td>NaN</td>\n",
              "      <td>NaN</td>\n",
              "      <td>W</td>\n",
              "      <td>44.0</td>\n",
              "      <td>W</td>\n",
              "      <td>...</td>\n",
              "      <td>71.0</td>\n",
              "      <td>22.0</td>\n",
              "      <td>1007.7</td>\n",
              "      <td>1007.1</td>\n",
              "      <td>8.0</td>\n",
              "      <td>NaN</td>\n",
              "      <td>16.9</td>\n",
              "      <td>21.8</td>\n",
              "      <td>No</td>\n",
              "      <td>No</td>\n",
              "    </tr>\n",
              "    <tr>\n",
              "      <th>1</th>\n",
              "      <td>2008-12-02</td>\n",
              "      <td>Albury</td>\n",
              "      <td>7.4</td>\n",
              "      <td>25.1</td>\n",
              "      <td>0.0</td>\n",
              "      <td>NaN</td>\n",
              "      <td>NaN</td>\n",
              "      <td>WNW</td>\n",
              "      <td>44.0</td>\n",
              "      <td>NNW</td>\n",
              "      <td>...</td>\n",
              "      <td>44.0</td>\n",
              "      <td>25.0</td>\n",
              "      <td>1010.6</td>\n",
              "      <td>1007.8</td>\n",
              "      <td>NaN</td>\n",
              "      <td>NaN</td>\n",
              "      <td>17.2</td>\n",
              "      <td>24.3</td>\n",
              "      <td>No</td>\n",
              "      <td>No</td>\n",
              "    </tr>\n",
              "    <tr>\n",
              "      <th>2</th>\n",
              "      <td>2008-12-03</td>\n",
              "      <td>Albury</td>\n",
              "      <td>12.9</td>\n",
              "      <td>25.7</td>\n",
              "      <td>0.0</td>\n",
              "      <td>NaN</td>\n",
              "      <td>NaN</td>\n",
              "      <td>WSW</td>\n",
              "      <td>46.0</td>\n",
              "      <td>W</td>\n",
              "      <td>...</td>\n",
              "      <td>38.0</td>\n",
              "      <td>30.0</td>\n",
              "      <td>1007.6</td>\n",
              "      <td>1008.7</td>\n",
              "      <td>NaN</td>\n",
              "      <td>2.0</td>\n",
              "      <td>21.0</td>\n",
              "      <td>23.2</td>\n",
              "      <td>No</td>\n",
              "      <td>No</td>\n",
              "    </tr>\n",
              "    <tr>\n",
              "      <th>3</th>\n",
              "      <td>2008-12-04</td>\n",
              "      <td>Albury</td>\n",
              "      <td>9.2</td>\n",
              "      <td>28.0</td>\n",
              "      <td>0.0</td>\n",
              "      <td>NaN</td>\n",
              "      <td>NaN</td>\n",
              "      <td>NE</td>\n",
              "      <td>24.0</td>\n",
              "      <td>SE</td>\n",
              "      <td>...</td>\n",
              "      <td>45.0</td>\n",
              "      <td>16.0</td>\n",
              "      <td>1017.6</td>\n",
              "      <td>1012.8</td>\n",
              "      <td>NaN</td>\n",
              "      <td>NaN</td>\n",
              "      <td>18.1</td>\n",
              "      <td>26.5</td>\n",
              "      <td>No</td>\n",
              "      <td>No</td>\n",
              "    </tr>\n",
              "    <tr>\n",
              "      <th>4</th>\n",
              "      <td>2008-12-05</td>\n",
              "      <td>Albury</td>\n",
              "      <td>17.5</td>\n",
              "      <td>32.3</td>\n",
              "      <td>1.0</td>\n",
              "      <td>NaN</td>\n",
              "      <td>NaN</td>\n",
              "      <td>W</td>\n",
              "      <td>41.0</td>\n",
              "      <td>ENE</td>\n",
              "      <td>...</td>\n",
              "      <td>82.0</td>\n",
              "      <td>33.0</td>\n",
              "      <td>1010.8</td>\n",
              "      <td>1006.0</td>\n",
              "      <td>7.0</td>\n",
              "      <td>8.0</td>\n",
              "      <td>17.8</td>\n",
              "      <td>29.7</td>\n",
              "      <td>No</td>\n",
              "      <td>No</td>\n",
              "    </tr>\n",
              "  </tbody>\n",
              "</table>\n",
              "<p>5 rows × 23 columns</p>\n",
              "</div>\n",
              "      <button class=\"colab-df-convert\" onclick=\"convertToInteractive('df-a0cc1803-db5a-4694-b74c-1dd2feec40d6')\"\n",
              "              title=\"Convert this dataframe to an interactive table.\"\n",
              "              style=\"display:none;\">\n",
              "        \n",
              "  <svg xmlns=\"http://www.w3.org/2000/svg\" height=\"24px\"viewBox=\"0 0 24 24\"\n",
              "       width=\"24px\">\n",
              "    <path d=\"M0 0h24v24H0V0z\" fill=\"none\"/>\n",
              "    <path d=\"M18.56 5.44l.94 2.06.94-2.06 2.06-.94-2.06-.94-.94-2.06-.94 2.06-2.06.94zm-11 1L8.5 8.5l.94-2.06 2.06-.94-2.06-.94L8.5 2.5l-.94 2.06-2.06.94zm10 10l.94 2.06.94-2.06 2.06-.94-2.06-.94-.94-2.06-.94 2.06-2.06.94z\"/><path d=\"M17.41 7.96l-1.37-1.37c-.4-.4-.92-.59-1.43-.59-.52 0-1.04.2-1.43.59L10.3 9.45l-7.72 7.72c-.78.78-.78 2.05 0 2.83L4 21.41c.39.39.9.59 1.41.59.51 0 1.02-.2 1.41-.59l7.78-7.78 2.81-2.81c.8-.78.8-2.07 0-2.86zM5.41 20L4 18.59l7.72-7.72 1.47 1.35L5.41 20z\"/>\n",
              "  </svg>\n",
              "      </button>\n",
              "      \n",
              "  <style>\n",
              "    .colab-df-container {\n",
              "      display:flex;\n",
              "      flex-wrap:wrap;\n",
              "      gap: 12px;\n",
              "    }\n",
              "\n",
              "    .colab-df-convert {\n",
              "      background-color: #E8F0FE;\n",
              "      border: none;\n",
              "      border-radius: 50%;\n",
              "      cursor: pointer;\n",
              "      display: none;\n",
              "      fill: #1967D2;\n",
              "      height: 32px;\n",
              "      padding: 0 0 0 0;\n",
              "      width: 32px;\n",
              "    }\n",
              "\n",
              "    .colab-df-convert:hover {\n",
              "      background-color: #E2EBFA;\n",
              "      box-shadow: 0px 1px 2px rgba(60, 64, 67, 0.3), 0px 1px 3px 1px rgba(60, 64, 67, 0.15);\n",
              "      fill: #174EA6;\n",
              "    }\n",
              "\n",
              "    [theme=dark] .colab-df-convert {\n",
              "      background-color: #3B4455;\n",
              "      fill: #D2E3FC;\n",
              "    }\n",
              "\n",
              "    [theme=dark] .colab-df-convert:hover {\n",
              "      background-color: #434B5C;\n",
              "      box-shadow: 0px 1px 3px 1px rgba(0, 0, 0, 0.15);\n",
              "      filter: drop-shadow(0px 1px 2px rgba(0, 0, 0, 0.3));\n",
              "      fill: #FFFFFF;\n",
              "    }\n",
              "  </style>\n",
              "\n",
              "      <script>\n",
              "        const buttonEl =\n",
              "          document.querySelector('#df-a0cc1803-db5a-4694-b74c-1dd2feec40d6 button.colab-df-convert');\n",
              "        buttonEl.style.display =\n",
              "          google.colab.kernel.accessAllowed ? 'block' : 'none';\n",
              "\n",
              "        async function convertToInteractive(key) {\n",
              "          const element = document.querySelector('#df-a0cc1803-db5a-4694-b74c-1dd2feec40d6');\n",
              "          const dataTable =\n",
              "            await google.colab.kernel.invokeFunction('convertToInteractive',\n",
              "                                                     [key], {});\n",
              "          if (!dataTable) return;\n",
              "\n",
              "          const docLinkHtml = 'Like what you see? Visit the ' +\n",
              "            '<a target=\"_blank\" href=https://colab.research.google.com/notebooks/data_table.ipynb>data table notebook</a>'\n",
              "            + ' to learn more about interactive tables.';\n",
              "          element.innerHTML = '';\n",
              "          dataTable['output_type'] = 'display_data';\n",
              "          await google.colab.output.renderOutput(dataTable, element);\n",
              "          const docLink = document.createElement('div');\n",
              "          docLink.innerHTML = docLinkHtml;\n",
              "          element.appendChild(docLink);\n",
              "        }\n",
              "      </script>\n",
              "    </div>\n",
              "  </div>\n",
              "  "
            ]
          },
          "metadata": {},
          "execution_count": 4
        }
      ],
      "source": [
        "df.head()"
      ]
    },
    {
      "cell_type": "code",
      "execution_count": null,
      "metadata": {
        "id": "QRlKRa1U2DCn"
      },
      "outputs": [],
      "source": [
        "df.drop(\"RainTomorrow\",axis=1,inplace=True)"
      ]
    },
    {
      "cell_type": "code",
      "execution_count": null,
      "metadata": {
        "colab": {
          "base_uri": "https://localhost:8080/"
        },
        "id": "0zkhv7Ot2atW",
        "outputId": "b2f059bb-82b5-4362-8e66-851d3859ed17"
      },
      "outputs": [
        {
          "output_type": "execute_result",
          "data": {
            "text/plain": [
              "         Date Location  MinTemp  MaxTemp  Rainfall  Evaporation  Sunshine  \\\n",
              "0  2008-12-01   Albury     13.4     22.9       0.6          NaN       NaN   \n",
              "1  2008-12-02   Albury      7.4     25.1       0.0          NaN       NaN   \n",
              "2  2008-12-03   Albury     12.9     25.7       0.0          NaN       NaN   \n",
              "3  2008-12-04   Albury      9.2     28.0       0.0          NaN       NaN   \n",
              "4  2008-12-05   Albury     17.5     32.3       1.0          NaN       NaN   \n",
              "\n",
              "  WindGustDir  WindGustSpeed WindDir9am  ... WindSpeed3pm  Humidity9am  \\\n",
              "0           W           44.0          W  ...         24.0         71.0   \n",
              "1         WNW           44.0        NNW  ...         22.0         44.0   \n",
              "2         WSW           46.0          W  ...         26.0         38.0   \n",
              "3          NE           24.0         SE  ...          9.0         45.0   \n",
              "4           W           41.0        ENE  ...         20.0         82.0   \n",
              "\n",
              "   Humidity3pm  Pressure9am  Pressure3pm  Cloud9am  Cloud3pm  Temp9am  \\\n",
              "0         22.0       1007.7       1007.1       8.0       NaN     16.9   \n",
              "1         25.0       1010.6       1007.8       NaN       NaN     17.2   \n",
              "2         30.0       1007.6       1008.7       NaN       2.0     21.0   \n",
              "3         16.0       1017.6       1012.8       NaN       NaN     18.1   \n",
              "4         33.0       1010.8       1006.0       7.0       8.0     17.8   \n",
              "\n",
              "   Temp3pm  RainToday  \n",
              "0     21.8         No  \n",
              "1     24.3         No  \n",
              "2     23.2         No  \n",
              "3     26.5         No  \n",
              "4     29.7         No  \n",
              "\n",
              "[5 rows x 22 columns]"
            ],
            "text/html": [
              "\n",
              "  <div id=\"df-51965bd3-7ac8-4534-aef7-788b493e5c8f\">\n",
              "    <div class=\"colab-df-container\">\n",
              "      <div>\n",
              "<style scoped>\n",
              "    .dataframe tbody tr th:only-of-type {\n",
              "        vertical-align: middle;\n",
              "    }\n",
              "\n",
              "    .dataframe tbody tr th {\n",
              "        vertical-align: top;\n",
              "    }\n",
              "\n",
              "    .dataframe thead th {\n",
              "        text-align: right;\n",
              "    }\n",
              "</style>\n",
              "<table border=\"1\" class=\"dataframe\">\n",
              "  <thead>\n",
              "    <tr style=\"text-align: right;\">\n",
              "      <th></th>\n",
              "      <th>Date</th>\n",
              "      <th>Location</th>\n",
              "      <th>MinTemp</th>\n",
              "      <th>MaxTemp</th>\n",
              "      <th>Rainfall</th>\n",
              "      <th>Evaporation</th>\n",
              "      <th>Sunshine</th>\n",
              "      <th>WindGustDir</th>\n",
              "      <th>WindGustSpeed</th>\n",
              "      <th>WindDir9am</th>\n",
              "      <th>...</th>\n",
              "      <th>WindSpeed3pm</th>\n",
              "      <th>Humidity9am</th>\n",
              "      <th>Humidity3pm</th>\n",
              "      <th>Pressure9am</th>\n",
              "      <th>Pressure3pm</th>\n",
              "      <th>Cloud9am</th>\n",
              "      <th>Cloud3pm</th>\n",
              "      <th>Temp9am</th>\n",
              "      <th>Temp3pm</th>\n",
              "      <th>RainToday</th>\n",
              "    </tr>\n",
              "  </thead>\n",
              "  <tbody>\n",
              "    <tr>\n",
              "      <th>0</th>\n",
              "      <td>2008-12-01</td>\n",
              "      <td>Albury</td>\n",
              "      <td>13.4</td>\n",
              "      <td>22.9</td>\n",
              "      <td>0.6</td>\n",
              "      <td>NaN</td>\n",
              "      <td>NaN</td>\n",
              "      <td>W</td>\n",
              "      <td>44.0</td>\n",
              "      <td>W</td>\n",
              "      <td>...</td>\n",
              "      <td>24.0</td>\n",
              "      <td>71.0</td>\n",
              "      <td>22.0</td>\n",
              "      <td>1007.7</td>\n",
              "      <td>1007.1</td>\n",
              "      <td>8.0</td>\n",
              "      <td>NaN</td>\n",
              "      <td>16.9</td>\n",
              "      <td>21.8</td>\n",
              "      <td>No</td>\n",
              "    </tr>\n",
              "    <tr>\n",
              "      <th>1</th>\n",
              "      <td>2008-12-02</td>\n",
              "      <td>Albury</td>\n",
              "      <td>7.4</td>\n",
              "      <td>25.1</td>\n",
              "      <td>0.0</td>\n",
              "      <td>NaN</td>\n",
              "      <td>NaN</td>\n",
              "      <td>WNW</td>\n",
              "      <td>44.0</td>\n",
              "      <td>NNW</td>\n",
              "      <td>...</td>\n",
              "      <td>22.0</td>\n",
              "      <td>44.0</td>\n",
              "      <td>25.0</td>\n",
              "      <td>1010.6</td>\n",
              "      <td>1007.8</td>\n",
              "      <td>NaN</td>\n",
              "      <td>NaN</td>\n",
              "      <td>17.2</td>\n",
              "      <td>24.3</td>\n",
              "      <td>No</td>\n",
              "    </tr>\n",
              "    <tr>\n",
              "      <th>2</th>\n",
              "      <td>2008-12-03</td>\n",
              "      <td>Albury</td>\n",
              "      <td>12.9</td>\n",
              "      <td>25.7</td>\n",
              "      <td>0.0</td>\n",
              "      <td>NaN</td>\n",
              "      <td>NaN</td>\n",
              "      <td>WSW</td>\n",
              "      <td>46.0</td>\n",
              "      <td>W</td>\n",
              "      <td>...</td>\n",
              "      <td>26.0</td>\n",
              "      <td>38.0</td>\n",
              "      <td>30.0</td>\n",
              "      <td>1007.6</td>\n",
              "      <td>1008.7</td>\n",
              "      <td>NaN</td>\n",
              "      <td>2.0</td>\n",
              "      <td>21.0</td>\n",
              "      <td>23.2</td>\n",
              "      <td>No</td>\n",
              "    </tr>\n",
              "    <tr>\n",
              "      <th>3</th>\n",
              "      <td>2008-12-04</td>\n",
              "      <td>Albury</td>\n",
              "      <td>9.2</td>\n",
              "      <td>28.0</td>\n",
              "      <td>0.0</td>\n",
              "      <td>NaN</td>\n",
              "      <td>NaN</td>\n",
              "      <td>NE</td>\n",
              "      <td>24.0</td>\n",
              "      <td>SE</td>\n",
              "      <td>...</td>\n",
              "      <td>9.0</td>\n",
              "      <td>45.0</td>\n",
              "      <td>16.0</td>\n",
              "      <td>1017.6</td>\n",
              "      <td>1012.8</td>\n",
              "      <td>NaN</td>\n",
              "      <td>NaN</td>\n",
              "      <td>18.1</td>\n",
              "      <td>26.5</td>\n",
              "      <td>No</td>\n",
              "    </tr>\n",
              "    <tr>\n",
              "      <th>4</th>\n",
              "      <td>2008-12-05</td>\n",
              "      <td>Albury</td>\n",
              "      <td>17.5</td>\n",
              "      <td>32.3</td>\n",
              "      <td>1.0</td>\n",
              "      <td>NaN</td>\n",
              "      <td>NaN</td>\n",
              "      <td>W</td>\n",
              "      <td>41.0</td>\n",
              "      <td>ENE</td>\n",
              "      <td>...</td>\n",
              "      <td>20.0</td>\n",
              "      <td>82.0</td>\n",
              "      <td>33.0</td>\n",
              "      <td>1010.8</td>\n",
              "      <td>1006.0</td>\n",
              "      <td>7.0</td>\n",
              "      <td>8.0</td>\n",
              "      <td>17.8</td>\n",
              "      <td>29.7</td>\n",
              "      <td>No</td>\n",
              "    </tr>\n",
              "  </tbody>\n",
              "</table>\n",
              "<p>5 rows × 22 columns</p>\n",
              "</div>\n",
              "      <button class=\"colab-df-convert\" onclick=\"convertToInteractive('df-51965bd3-7ac8-4534-aef7-788b493e5c8f')\"\n",
              "              title=\"Convert this dataframe to an interactive table.\"\n",
              "              style=\"display:none;\">\n",
              "        \n",
              "  <svg xmlns=\"http://www.w3.org/2000/svg\" height=\"24px\"viewBox=\"0 0 24 24\"\n",
              "       width=\"24px\">\n",
              "    <path d=\"M0 0h24v24H0V0z\" fill=\"none\"/>\n",
              "    <path d=\"M18.56 5.44l.94 2.06.94-2.06 2.06-.94-2.06-.94-.94-2.06-.94 2.06-2.06.94zm-11 1L8.5 8.5l.94-2.06 2.06-.94-2.06-.94L8.5 2.5l-.94 2.06-2.06.94zm10 10l.94 2.06.94-2.06 2.06-.94-2.06-.94-.94-2.06-.94 2.06-2.06.94z\"/><path d=\"M17.41 7.96l-1.37-1.37c-.4-.4-.92-.59-1.43-.59-.52 0-1.04.2-1.43.59L10.3 9.45l-7.72 7.72c-.78.78-.78 2.05 0 2.83L4 21.41c.39.39.9.59 1.41.59.51 0 1.02-.2 1.41-.59l7.78-7.78 2.81-2.81c.8-.78.8-2.07 0-2.86zM5.41 20L4 18.59l7.72-7.72 1.47 1.35L5.41 20z\"/>\n",
              "  </svg>\n",
              "      </button>\n",
              "      \n",
              "  <style>\n",
              "    .colab-df-container {\n",
              "      display:flex;\n",
              "      flex-wrap:wrap;\n",
              "      gap: 12px;\n",
              "    }\n",
              "\n",
              "    .colab-df-convert {\n",
              "      background-color: #E8F0FE;\n",
              "      border: none;\n",
              "      border-radius: 50%;\n",
              "      cursor: pointer;\n",
              "      display: none;\n",
              "      fill: #1967D2;\n",
              "      height: 32px;\n",
              "      padding: 0 0 0 0;\n",
              "      width: 32px;\n",
              "    }\n",
              "\n",
              "    .colab-df-convert:hover {\n",
              "      background-color: #E2EBFA;\n",
              "      box-shadow: 0px 1px 2px rgba(60, 64, 67, 0.3), 0px 1px 3px 1px rgba(60, 64, 67, 0.15);\n",
              "      fill: #174EA6;\n",
              "    }\n",
              "\n",
              "    [theme=dark] .colab-df-convert {\n",
              "      background-color: #3B4455;\n",
              "      fill: #D2E3FC;\n",
              "    }\n",
              "\n",
              "    [theme=dark] .colab-df-convert:hover {\n",
              "      background-color: #434B5C;\n",
              "      box-shadow: 0px 1px 3px 1px rgba(0, 0, 0, 0.15);\n",
              "      filter: drop-shadow(0px 1px 2px rgba(0, 0, 0, 0.3));\n",
              "      fill: #FFFFFF;\n",
              "    }\n",
              "  </style>\n",
              "\n",
              "      <script>\n",
              "        const buttonEl =\n",
              "          document.querySelector('#df-51965bd3-7ac8-4534-aef7-788b493e5c8f button.colab-df-convert');\n",
              "        buttonEl.style.display =\n",
              "          google.colab.kernel.accessAllowed ? 'block' : 'none';\n",
              "\n",
              "        async function convertToInteractive(key) {\n",
              "          const element = document.querySelector('#df-51965bd3-7ac8-4534-aef7-788b493e5c8f');\n",
              "          const dataTable =\n",
              "            await google.colab.kernel.invokeFunction('convertToInteractive',\n",
              "                                                     [key], {});\n",
              "          if (!dataTable) return;\n",
              "\n",
              "          const docLinkHtml = 'Like what you see? Visit the ' +\n",
              "            '<a target=\"_blank\" href=https://colab.research.google.com/notebooks/data_table.ipynb>data table notebook</a>'\n",
              "            + ' to learn more about interactive tables.';\n",
              "          element.innerHTML = '';\n",
              "          dataTable['output_type'] = 'display_data';\n",
              "          await google.colab.output.renderOutput(dataTable, element);\n",
              "          const docLink = document.createElement('div');\n",
              "          docLink.innerHTML = docLinkHtml;\n",
              "          element.appendChild(docLink);\n",
              "        }\n",
              "      </script>\n",
              "    </div>\n",
              "  </div>\n",
              "  "
            ]
          },
          "metadata": {},
          "execution_count": 6
        }
      ],
      "source": [
        "df.head()\n"
      ]
    },
    {
      "cell_type": "code",
      "source": [
        "numerical_feature = [feature for feature in df.columns if df[feature].dtypes != 'O']\n",
        "discrete_feature=[feature for feature in numerical_feature if len(df[feature].unique())<25]\n",
        "continuous_feature = [feature for feature in numerical_feature if feature not in discrete_feature]\n",
        "categorical_feature = [feature for feature in df.columns if feature not in numerical_feature]\n",
        "print(\"Numerical Features Count {}\".format(len(numerical_feature)))\n",
        "print(\"Discrete feature Count {}\".format(len(discrete_feature)))\n",
        "print(\"Continuous feature Count {}\".format(len(continuous_feature)))\n",
        "print(\"Categorical feature Count {}\".format(len(categorical_feature)))"
      ],
      "metadata": {
        "colab": {
          "base_uri": "https://localhost:8080/"
        },
        "id": "G66Cgw1BgYhr",
        "outputId": "d326d6c3-4ab5-459a-8adb-bda8d220dc78"
      },
      "execution_count": null,
      "outputs": [
        {
          "output_type": "stream",
          "name": "stdout",
          "text": [
            "Numerical Features Count 16\n",
            "Discrete feature Count 2\n",
            "Continuous feature Count 14\n",
            "Categorical feature Count 6\n"
          ]
        }
      ]
    },
    {
      "cell_type": "code",
      "source": [
        "# gives the number of null values in each column\n",
        "df.isna().sum()\n",
        "\n",
        "# visualizing the Null values in Numerical Features:\n",
        "df[numerical_feature].isnull().sum().sort_values(ascending = False).plot(kind = 'bar')"
      ],
      "metadata": {
        "colab": {
          "base_uri": "https://localhost:8080/"
        },
        "id": "JdODea7YZJBl",
        "outputId": "6ae6be71-fe82-478d-ed36-9666128653a7"
      },
      "execution_count": null,
      "outputs": [
        {
          "output_type": "execute_result",
          "data": {
            "text/plain": [
              "<matplotlib.axes._subplots.AxesSubplot at 0x7ff9505c8d90>"
            ]
          },
          "metadata": {},
          "execution_count": 8
        },
        {
          "output_type": "display_data",
          "data": {
            "text/plain": [
              "<Figure size 432x288 with 1 Axes>"
            ],
            "image/png": "[encoded data removed]"
          },
          "metadata": {
            "needs_background": "light"
          }
        }
      ]
    },
    {
      "cell_type": "code",
      "execution_count": null,
      "metadata": {
        "id": "c9mLgKQC24r-",
        "colab": {
          "base_uri": "https://localhost:8080/"
        },
        "outputId": "5715efac-2b3a-4777-f765-5ffb1bed1cfd"
      },
      "outputs": [
        {
          "output_type": "display_data",
          "data": {
            "text/plain": [
              "<Figure size 1152x1800 with 15 Axes>"
            ],
            "image/png": "[encoded data removed]"
          },
          "metadata": {
            "needs_background": "light"
          }
        }
      ],
      "source": [
        "n_rows=5\n",
        "n_cols=3\n",
        "fig, axes = plt.subplots(nrows=n_rows, ncols=n_cols);\n",
        "fig.set_size_inches((16, 25))\n",
        "\n",
        "#Considering the columns which are useful for evaluation \n",
        "dt = df.iloc[:, [2, 3, 5, 6, 8, 11, 12, 13, 14, 15, 16, 17, 18, 19, 20]]\n",
        "\n",
        "for i, column in enumerate(dt.columns):\n",
        "    sns.distplot(df[column],ax=axes[i//n_cols,i%n_cols], kde = False, bins = 20);"
      ]
    },
    {
      "cell_type": "markdown",
      "source": [
        "# **Handling Outliers**"
      ],
      "metadata": {
        "id": "fAeO1b08KWb6"
      }
    },
    {
      "cell_type": "code",
      "source": [
        "#A for loop is used to plot a boxplot for all the continuous features to see the outliers\n",
        "for feature in continuous_feature:\n",
        "    data=df.copy()\n",
        "    sns.boxplot(data[feature])\n",
        "    plt.title(feature)\n",
        "    plt.figure(figsize=(15,15))"
      ],
      "metadata": {
        "colab": {
          "base_uri": "https://localhost:8080/"
        },
        "id": "AV9doTt5g56b",
        "outputId": "4133d4f9-43a4-4015-e703-7895631efb31"
      },
      "execution_count": null,
      "outputs": [
        {
          "output_type": "display_data",
          "data": {
            "text/plain": [
              "<Figure size 432x288 with 1 Axes>"
            ],
            "image/png": "[encoded data removed]"
          },
          "metadata": {
            "needs_background": "light"
          }
        },
        {
          "output_type": "display_data",
          "data": {
            "text/plain": [
              "<Figure size 1080x1080 with 1 Axes>"
            ],
            "image/png": "[encoded data removed]"
          },
          "metadata": {
            "needs_background": "light"
          }
        },
        {
          "output_type": "display_data",
          "data": {
            "text/plain": [
              "<Figure size 1080x1080 with 1 Axes>"
            ],
            "image/png": "[encoded data removed]"
          },
          "metadata": {
            "needs_background": "light"
          }
        },
        {
          "output_type": "display_data",
          "data": {
            "text/plain": [
              "<Figure size 1080x1080 with 1 Axes>"
            ],
            "image/png": "[encoded data removed]"
          },
          "metadata": {
            "needs_background": "light"
          }
        },
        {
          "output_type": "display_data",
          "data": {
            "text/plain": [
              "<Figure size 1080x1080 with 1 Axes>"
            ],
            "image/png": "[encoded data removed]"
          },
          "metadata": {
            "needs_background": "light"
          }
        },
        {
          "output_type": "display_data",
          "data": {
            "text/plain": [
              "<Figure size 1080x1080 with 1 Axes>"
            ],
            "image/png": "[encoded data removed]"
          },
          "metadata": {
            "needs_background": "light"
          }
        },
        {
          "output_type": "display_data",
          "data": {
            "text/plain": [
              "<Figure size 1080x1080 with 1 Axes>"
            ],
            "image/png": "[encoded data removed]"
          },
          "metadata": {
            "needs_background": "light"
          }
        },
        {
          "output_type": "display_data",
          "data": {
            "text/plain": [
              "<Figure size 1080x1080 with 1 Axes>"
            ],
            "image/png": "[encoded data removed]"
          },
          "metadata": {
            "needs_background": "light"
          }
        },
        {
          "output_type": "display_data",
          "data": {
            "text/plain": [
              "<Figure size 1080x1080 with 1 Axes>"
            ],
            "image/png": "[encoded data removed]"
          },
          "metadata": {
            "needs_background": "light"
          }
        },
        {
          "output_type": "display_data",
          "data": {
            "text/plain": [
              "<Figure size 1080x1080 with 1 Axes>"
            ],
            "image/png": "[encoded data removed]"
          },
          "metadata": {
            "needs_background": "light"
          }
        },
        {
          "output_type": "display_data",
          "data": {
            "text/plain": [
              "<Figure size 1080x1080 with 1 Axes>"
            ],
            "image/png": "[encoded data removed]"
          },
          "metadata": {
            "needs_background": "light"
          }
        },
        {
          "output_type": "display_data",
          "data": {
            "text/plain": [
              "<Figure size 1080x1080 with 1 Axes>"
            ],
            "image/png": "[encoded data removed]"
          },
          "metadata": {
            "needs_background": "light"
          }
        },
        {
          "output_type": "display_data",
          "data": {
            "text/plain": [
              "<Figure size 1080x1080 with 1 Axes>"
            ],
            "image/png": "[encoded data removed]"
          },
          "metadata": {
            "needs_background": "light"
          }
        },
        {
          "output_type": "display_data",
          "data": {
            "text/plain": [
              "<Figure size 1080x1080 with 1 Axes>"
            ],
            "image/png": "[encoded data removed]"
          },
          "metadata": {
            "needs_background": "light"
          }
        },
        {
          "output_type": "display_data",
          "data": {
            "text/plain": [
              "<Figure size 1080x1080 with 0 Axes>"
            ]
          },
          "metadata": {}
        }
      ]
    },
    {
      "cell_type": "markdown",
      "source": [
        "# **Outlier Treatment to remove outliers from Numerical Features**"
      ],
      "metadata": {
        "id": "79kKpgpchAxA"
      }
    },
    {
      "cell_type": "code",
      "source": [
        "def outliers(df,variable):\n",
        "  IQR=df[variable].quantile(0.75)-df[variable].quantile(0.25)\n",
        "  lower_bridge=df[variable].quantile(0.25)-(IQR*1.5)\n",
        "  upper_bridge=df[variable].quantile(0.75)+(IQR*1.5)\n",
        "\n",
        "\n",
        "  df.loc[df[variable]>=upper_bridge,variable]=upper_bridge\n",
        "  df.loc[df[variable]<=lower_bridge,variable]=lower_bridge"
      ],
      "metadata": {
        "id": "mjeq56zfhGKU"
      },
      "execution_count": null,
      "outputs": []
    },
    {
      "cell_type": "code",
      "source": [
        "for feature in continuous_feature:\n",
        "  outliers(df,str(feature))"
      ],
      "metadata": {
        "id": "LFq6098ihIsE"
      },
      "execution_count": null,
      "outputs": []
    },
    {
      "cell_type": "code",
      "source": [
        "for feature in continuous_feature:\n",
        "  data=df.copy()\n",
        "  sns.boxplot(data[feature])\n",
        "  plt.title(feature)\n",
        "  plt.figure(figsize=(15,15))"
      ],
      "metadata": {
        "colab": {
          "base_uri": "https://localhost:8080/"
        },
        "id": "zBNVPyzxhLPi",
        "outputId": "863de5a2-aa6d-4bfb-82c2-960b4a4b3a4e"
      },
      "execution_count": null,
      "outputs": [
        {
          "output_type": "display_data",
          "data": {
            "text/plain": [
              "<Figure size 432x288 with 1 Axes>"
            ],
            "image/png": "[encoded data removed]"
          },
          "metadata": {
            "needs_background": "light"
          }
        },
        {
          "output_type": "display_data",
          "data": {
            "text/plain": [
              "<Figure size 1080x1080 with 1 Axes>"
            ],
            "image/png": "[encoded data removed]"
          },
          "metadata": {
            "needs_background": "light"
          }
        },
        {
          "output_type": "display_data",
          "data": {
            "text/plain": [
              "<Figure size 1080x1080 with 1 Axes>"
            ],
            "image/png": "[encoded data removed]"
          },
          "metadata": {
            "needs_background": "light"
          }
        },
        {
          "output_type": "display_data",
          "data": {
            "text/plain": [
              "<Figure size 1080x1080 with 1 Axes>"
            ],
            "image/png": "[encoded data removed]"
          },
          "metadata": {
            "needs_background": "light"
          }
        },
        {
          "output_type": "display_data",
          "data": {
            "text/plain": [
              "<Figure size 1080x1080 with 1 Axes>"
            ],
            "image/png": "[encoded data removed]"
          },
          "metadata": {
            "needs_background": "light"
          }
        },
        {
          "output_type": "display_data",
          "data": {
            "text/plain": [
              "<Figure size 1080x1080 with 1 Axes>"
            ],
            "image/png": "[encoded data removed]"
          },
          "metadata": {
            "needs_background": "light"
          }
        },
        {
          "output_type": "display_data",
          "data": {
            "text/plain": [
              "<Figure size 1080x1080 with 1 Axes>"
            ],
            "image/png": "[encoded data removed]"
          },
          "metadata": {
            "needs_background": "light"
          }
        },
        {
          "output_type": "display_data",
          "data": {
            "text/plain": [
              "<Figure size 1080x1080 with 1 Axes>"
            ],
            "image/png": "[encoded data removed]"
          },
          "metadata": {
            "needs_background": "light"
          }
        },
        {
          "output_type": "display_data",
          "data": {
            "text/plain": [
              "<Figure size 1080x1080 with 1 Axes>"
            ],
            "image/png": "[encoded data removed]"
          },
          "metadata": {
            "needs_background": "light"
          }
        },
        {
          "output_type": "display_data",
          "data": {
            "text/plain": [
              "<Figure size 1080x1080 with 1 Axes>"
            ],
            "image/png": "[encoded data removed]"
          },
          "metadata": {
            "needs_background": "light"
          }
        },
        {
          "output_type": "display_data",
          "data": {
            "text/plain": [
              "<Figure size 1080x1080 with 1 Axes>"
            ],
            "image/png": "[encoded data removed]"
          },
          "metadata": {
            "needs_background": "light"
          }
        },
        {
          "output_type": "display_data",
          "data": {
            "text/plain": [
              "<Figure size 1080x1080 with 1 Axes>"
            ],
            "image/png": "[encoded data removed]"
          },
          "metadata": {
            "needs_background": "light"
          }
        },
        {
          "output_type": "display_data",
          "data": {
            "text/plain": [
              "<Figure size 1080x1080 with 1 Axes>"
            ],
            "image/png": "[encoded data removed]"
          },
          "metadata": {
            "needs_background": "light"
          }
        },
        {
          "output_type": "display_data",
          "data": {
            "text/plain": [
              "<Figure size 1080x1080 with 1 Axes>"
            ],
            "image/png": "[encoded data removed]"
          },
          "metadata": {
            "needs_background": "light"
          }
        },
        {
          "output_type": "display_data",
          "data": {
            "text/plain": [
              "<Figure size 1080x1080 with 0 Axes>"
            ]
          },
          "metadata": {}
        }
      ]
    },
    {
      "cell_type": "markdown",
      "source": [
        "# **Feature Selection**"
      ],
      "metadata": {
        "id": "_PdrDiBThdec"
      }
    },
    {
      "cell_type": "markdown",
      "source": [
        "- Machine Learning Model performance depends on features that are used to train a model. \n",
        "- Feature importance describes which features are relevant to build a model. \n",
        "- Feature Importance refers to the techniques that assign a score to input/label features based on how useful they are  at predicting a target variable. Feature importance helps in Feature Selection.\n",
        "\n",
        "X – Independent Features or Input features\n",
        "\n",
        "y – Dependent Features or target label"
      ],
      "metadata": {
        "id": "nCNz9cRpTo29"
      }
    },
    {
      "cell_type": "code",
      "execution_count": null,
      "metadata": {
        "id": "2M12ZMNc2yLC"
      },
      "outputs": [],
      "source": [
        "X = df.iloc[:,[1,2,3,7,8,9,10,11,12,13,14,15,16,17,18,19,20,21]].values\n",
        "Y = df.iloc[:,4].values"
      ]
    },
    {
      "cell_type": "code",
      "execution_count": null,
      "metadata": {
        "colab": {
          "base_uri": "https://localhost:8080/"
        },
        "id": "DvYR6KAQ3V72",
        "outputId": "635047ba-438b-4410-b752-e5bccf4cd73b"
      },
      "outputs": [
        {
          "output_type": "stream",
          "name": "stdout",
          "text": [
            "[['Albury' 13.4 22.9 ... 16.9 21.8 'No']\n",
            " ['Albury' 7.4 25.1 ... 17.2 24.3 'No']\n",
            " ['Albury' 12.9 25.7 ... 21.0 23.2 'No']\n",
            " ...\n",
            " ['Uluru' 5.4 26.9 ... 12.5 26.1 'No']\n",
            " ['Uluru' 7.8 27.0 ... 15.1 26.0 'No']\n",
            " ['Uluru' 14.9 nan ... 15.0 20.9 'No']]\n"
          ]
        }
      ],
      "source": [
        "print(X)"
      ]
    },
    {
      "cell_type": "code",
      "execution_count": null,
      "metadata": {
        "colab": {
          "base_uri": "https://localhost:8080/"
        },
        "id": "hW-cMGo83wMH",
        "outputId": "b0ff4de1-7a9c-4d44-a172-f92c10dce158"
      },
      "outputs": [
        {
          "output_type": "stream",
          "name": "stdout",
          "text": [
            "[0.6 0.  0.  ... 0.  0.  0. ]\n"
          ]
        }
      ],
      "source": [
        "print(Y)"
      ]
    },
    {
      "cell_type": "code",
      "execution_count": null,
      "metadata": {
        "id": "B4jhRU_a30to"
      },
      "outputs": [],
      "source": [
        "Y=Y.reshape(-1,1)"
      ]
    },
    {
      "cell_type": "code",
      "execution_count": null,
      "metadata": {
        "id": "nnfgzWxO3-OG"
      },
      "outputs": [],
      "source": [
        "from sklearn.impute import SimpleImputer\n",
        "\n",
        "imp = SimpleImputer(missing_values=np.nan,strategy='most_frequent') # Filling the missing values with Mode\n",
        "X = imp.fit_transform(X)\n",
        "Y = imp.fit_transform(Y)"
      ]
    },
    {
      "cell_type": "markdown",
      "source": [
        "# **Encoding The Categorical Data**"
      ],
      "metadata": {
        "id": "pqCLPq0Jtyky"
      }
    },
    {
      "cell_type": "markdown",
      "source": [
        "*Most Machine Learning Algorithms can't handle categorical data. Hence, these categorical data needs to converted to numerical data for modelling, which is called as Feature Encoding.*"
      ],
      "metadata": {
        "id": "Ti1Q2OgCStxA"
      }
    },
    {
      "cell_type": "code",
      "execution_count": null,
      "metadata": {
        "id": "Zdo72-cY4DUw"
      },
      "outputs": [],
      "source": [
        "from sklearn.preprocessing import LabelEncoder\n",
        "\n",
        "le=LabelEncoder()\n",
        "X[:,0] = le.fit_transform(X[:,0])\n",
        "\n",
        "\n",
        "#le2 = LabelEncoder()\n",
        "X[:,3] = le.fit_transform(X[:,3])\n",
        "\n",
        "\n",
        "#le3 = LabelEncoder()\n",
        "X[:,5] = le.fit_transform(X[:,5])\n",
        "\n",
        "\n",
        "#le4 = LabelEncoder()\n",
        "X[:,6] = le.fit_transform(X[:,6])\n",
        "\n",
        "\n",
        "#le5 = LabelEncoder()\n",
        "X[:,-1] = le.fit_transform(X[:,-1])\n",
        "\n",
        "\n"
      ]
    },
    {
      "cell_type": "code",
      "execution_count": null,
      "metadata": {
        "colab": {
          "base_uri": "https://localhost:8080/"
        },
        "id": "e83AWMtD5Yko",
        "outputId": "5d031fc9-5b9e-453e-ad7d-fb0eb472cd19"
      },
      "outputs": [
        {
          "output_type": "execute_result",
          "data": {
            "text/plain": [
              "array([[2, 13.4, 22.9, ..., 16.9, 21.8, 0],\n",
              "       [2, 7.4, 25.1, ..., 17.2, 24.3, 0],\n",
              "       [2, 12.9, 25.7, ..., 21.0, 23.2, 0],\n",
              "       ...,\n",
              "       [41, 5.4, 26.9, ..., 12.5, 26.1, 0],\n",
              "       [41, 7.8, 27.0, ..., 15.1, 26.0, 0],\n",
              "       [41, 14.9, 20.0, ..., 15.0, 20.9, 0]], dtype=object)"
            ]
          },
          "metadata": {},
          "execution_count": 20
        }
      ],
      "source": [
        "X"
      ]
    },
    {
      "cell_type": "code",
      "execution_count": null,
      "metadata": {
        "colab": {
          "base_uri": "https://localhost:8080/"
        },
        "id": "PrCfPw3R5bG0",
        "outputId": "ee8eea55-0af9-436a-d767-ea694549ab64"
      },
      "outputs": [
        {
          "output_type": "execute_result",
          "data": {
            "text/plain": [
              "array([[0.6],\n",
              "       [0. ],\n",
              "       [0. ],\n",
              "       ...,\n",
              "       [0. ],\n",
              "       [0. ],\n",
              "       [0. ]])"
            ]
          },
          "metadata": {},
          "execution_count": 21
        }
      ],
      "source": [
        "Y"
      ]
    },
    {
      "cell_type": "markdown",
      "source": [
        "# **Feature Scaling**"
      ],
      "metadata": {
        "id": "JF4Z1fP5uN0z"
      }
    },
    {
      "cell_type": "markdown",
      "source": [
        "*Feature Scaling is a technique used to scale, normalize, standardize data in range(0,1). When each column of a dataset has distinct values, then it helps to scale data of each column to a common level. StandardScaler is a class used to implement feature scaling.*"
      ],
      "metadata": {
        "id": "UhQCp0AgXApD"
      }
    },
    {
      "cell_type": "code",
      "execution_count": null,
      "metadata": {
        "id": "ar9sneZa5eyi"
      },
      "outputs": [],
      "source": [
        "from sklearn.preprocessing import StandardScaler\n",
        "sc = StandardScaler()\n",
        "X = sc.fit_transform(X)"
      ]
    },
    {
      "cell_type": "markdown",
      "source": [
        "# **Splitting Dataset into Training set and Testing set**\n",
        "Dividing the Training-Testing Data as 80:20"
      ],
      "metadata": {
        "id": "8lY7zwcpuk-M"
      }
    },
    {
      "cell_type": "code",
      "execution_count": null,
      "metadata": {
        "id": "bNDkumdi6W2z"
      },
      "outputs": [],
      "source": [
        "from sklearn.model_selection import train_test_split\n",
        "X_train,X_test,Y_train,Y_test = train_test_split(X,Y,test_size=0.2,random_state=0)"
      ]
    },
    {
      "cell_type": "code",
      "execution_count": null,
      "metadata": {
        "colab": {
          "base_uri": "https://localhost:8080/"
        },
        "id": "8n1Je2pl6ZNv",
        "outputId": "27e3ace3-f403-4854-f736-a927ed70fe1d"
      },
      "outputs": [
        {
          "output_type": "stream",
          "name": "stdout",
          "text": [
            "Length of Training Data: 116368\n",
            "Length of Testing Data: 29092\n"
          ]
        }
      ],
      "source": [
        "print(\"Length of Training Data: {}\".format(len(X_train)))\n",
        "print(\"Length of Testing Data: {}\".format(len(X_test)))"
      ]
    },
    {
      "cell_type": "code",
      "execution_count": null,
      "metadata": {
        "colab": {
          "base_uri": "https://localhost:8080/"
        },
        "id": "dK_1K5hP6a0e",
        "outputId": "8314242d-b2e6-4a36-a6fa-970f5f5fc731"
      },
      "outputs": [
        {
          "output_type": "execute_result",
          "data": {
            "text/plain": [
              "(29092, 1)"
            ]
          },
          "metadata": {},
          "execution_count": 25
        }
      ],
      "source": [
        "Y_test.shape"
      ]
    },
    {
      "cell_type": "markdown",
      "source": [
        "# **Applying Models**"
      ],
      "metadata": {
        "id": "LFesuV8svdBd"
      }
    },
    {
      "cell_type": "markdown",
      "source": [
        "# **CatBoost**"
      ],
      "metadata": {
        "id": "VbN-HtHKh82j"
      }
    },
    {
      "cell_type": "code",
      "execution_count": null,
      "metadata": {
        "colab": {
          "base_uri": "https://localhost:8080/"
        },
        "id": "ZvAgelM66gWK",
        "outputId": "0a6fd946-4def-44fc-ae63-316990d96cdc"
      },
      "outputs": [
        {
          "output_type": "stream",
          "name": "stdout",
          "text": [
            "Collecting catboost\n",
            "  Downloading catboost-1.0.5-cp37-none-manylinux1_x86_64.whl (76.6 MB)\n",
            "\u001b[K     |████████████████████████████████| 76.6 MB 1.2 MB/s \n",
            "\u001b[?25hRequirement already satisfied: six in /usr/local/lib/python3.7/dist-packages (from catboost) (1.15.0)\n",
            "Requirement already satisfied: scipy in /usr/local/lib/python3.7/dist-packages (from catboost) (1.4.1)\n",
            "Requirement already satisfied: plotly in /usr/local/lib/python3.7/dist-packages (from catboost) (5.5.0)\n",
            "Requirement already satisfied: numpy>=1.16.0 in /usr/local/lib/python3.7/dist-packages (from catboost) (1.21.5)\n",
            "Requirement already satisfied: pandas>=0.24.0 in /usr/local/lib/python3.7/dist-packages (from catboost) (1.3.5)\n",
            "Requirement already satisfied: matplotlib in /usr/local/lib/python3.7/dist-packages (from catboost) (3.2.2)\n",
            "Requirement already satisfied: graphviz in /usr/local/lib/python3.7/dist-packages (from catboost) (0.10.1)\n",
            "Requirement already satisfied: pytz>=2017.3 in /usr/local/lib/python3.7/dist-packages (from pandas>=0.24.0->catboost) (2018.9)\n",
            "Requirement already satisfied: python-dateutil>=2.7.3 in /usr/local/lib/python3.7/dist-packages (from pandas>=0.24.0->catboost) (2.8.2)\n",
            "Requirement already satisfied: pyparsing!=2.0.4,!=2.1.2,!=2.1.6,>=2.0.1 in /usr/local/lib/python3.7/dist-packages (from matplotlib->catboost) (3.0.7)\n",
            "Requirement already satisfied: cycler>=0.10 in /usr/local/lib/python3.7/dist-packages (from matplotlib->catboost) (0.11.0)\n",
            "Requirement already satisfied: kiwisolver>=1.0.1 in /usr/local/lib/python3.7/dist-packages (from matplotlib->catboost) (1.4.0)\n",
            "Requirement already satisfied: typing-extensions in /usr/local/lib/python3.7/dist-packages (from kiwisolver>=1.0.1->matplotlib->catboost) (3.10.0.2)\n",
            "Requirement already satisfied: tenacity>=6.2.0 in /usr/local/lib/python3.7/dist-packages (from plotly->catboost) (8.0.1)\n",
            "Installing collected packages: catboost\n",
            "Successfully installed catboost-1.0.5\n",
            "Learning rate set to 0.086812\n",
            "0:\tlearn: 0.7239178\ttotal: 72ms\tremaining: 1m 11s\n",
            "1:\tlearn: 0.6661637\ttotal: 90.6ms\tremaining: 45.2s\n",
            "2:\tlearn: 0.6137773\ttotal: 112ms\tremaining: 37.2s\n",
            "3:\tlearn: 0.5663355\ttotal: 131ms\tremaining: 32.6s\n",
            "4:\tlearn: 0.5233997\ttotal: 152ms\tremaining: 30.2s\n",
            "5:\tlearn: 0.4848030\ttotal: 163ms\tremaining: 27s\n",
            "6:\tlearn: 0.4500867\ttotal: 184ms\tremaining: 26.2s\n",
            "7:\tlearn: 0.4187982\ttotal: 205ms\tremaining: 25.4s\n",
            "8:\tlearn: 0.3909031\ttotal: 219ms\tremaining: 24.2s\n",
            "9:\tlearn: 0.3658510\ttotal: 241ms\tremaining: 23.8s\n",
            "10:\tlearn: 0.3436959\ttotal: 254ms\tremaining: 22.8s\n",
            "11:\tlearn: 0.3238994\ttotal: 279ms\tremaining: 23s\n",
            "12:\tlearn: 0.3063031\ttotal: 302ms\tremaining: 22.9s\n",
            "13:\tlearn: 0.2908889\ttotal: 321ms\tremaining: 22.6s\n",
            "14:\tlearn: 0.2772784\ttotal: 342ms\tremaining: 22.4s\n",
            "15:\tlearn: 0.2653935\ttotal: 362ms\tremaining: 22.3s\n",
            "16:\tlearn: 0.2549671\ttotal: 383ms\tremaining: 22.2s\n",
            "17:\tlearn: 0.2458884\ttotal: 407ms\tremaining: 22.2s\n",
            "18:\tlearn: 0.2381599\ttotal: 424ms\tremaining: 21.9s\n",
            "19:\tlearn: 0.2314659\ttotal: 445ms\tremaining: 21.8s\n",
            "20:\tlearn: 0.2257590\ttotal: 468ms\tremaining: 21.8s\n",
            "21:\tlearn: 0.2208593\ttotal: 487ms\tremaining: 21.7s\n",
            "22:\tlearn: 0.2165682\ttotal: 509ms\tremaining: 21.6s\n",
            "23:\tlearn: 0.2129060\ttotal: 528ms\tremaining: 21.5s\n",
            "24:\tlearn: 0.2098316\ttotal: 549ms\tremaining: 21.4s\n",
            "25:\tlearn: 0.2072952\ttotal: 565ms\tremaining: 21.2s\n",
            "26:\tlearn: 0.2051076\ttotal: 590ms\tremaining: 21.3s\n",
            "27:\tlearn: 0.2031706\ttotal: 612ms\tremaining: 21.2s\n",
            "28:\tlearn: 0.2014610\ttotal: 635ms\tremaining: 21.2s\n",
            "29:\tlearn: 0.1999715\ttotal: 664ms\tremaining: 21.5s\n",
            "30:\tlearn: 0.1987999\ttotal: 687ms\tremaining: 21.5s\n",
            "31:\tlearn: 0.1977321\ttotal: 715ms\tremaining: 21.6s\n",
            "32:\tlearn: 0.1968955\ttotal: 737ms\tremaining: 21.6s\n",
            "33:\tlearn: 0.1961592\ttotal: 759ms\tremaining: 21.6s\n",
            "34:\tlearn: 0.1955111\ttotal: 798ms\tremaining: 22s\n",
            "35:\tlearn: 0.1949954\ttotal: 818ms\tremaining: 21.9s\n",
            "36:\tlearn: 0.1945500\ttotal: 838ms\tremaining: 21.8s\n",
            "37:\tlearn: 0.1941706\ttotal: 860ms\tremaining: 21.8s\n",
            "38:\tlearn: 0.1938308\ttotal: 882ms\tremaining: 21.7s\n",
            "39:\tlearn: 0.1935197\ttotal: 905ms\tremaining: 21.7s\n",
            "40:\tlearn: 0.1932613\ttotal: 926ms\tremaining: 21.7s\n",
            "41:\tlearn: 0.1930173\ttotal: 947ms\tremaining: 21.6s\n",
            "42:\tlearn: 0.1927860\ttotal: 969ms\tremaining: 21.6s\n",
            "43:\tlearn: 0.1926047\ttotal: 989ms\tremaining: 21.5s\n",
            "44:\tlearn: 0.1924162\ttotal: 1.02s\tremaining: 21.6s\n",
            "45:\tlearn: 0.1922739\ttotal: 1.04s\tremaining: 21.5s\n",
            "46:\tlearn: 0.1921023\ttotal: 1.06s\tremaining: 21.6s\n",
            "47:\tlearn: 0.1920207\ttotal: 1.08s\tremaining: 21.5s\n",
            "48:\tlearn: 0.1919037\ttotal: 1.1s\tremaining: 21.4s\n",
            "49:\tlearn: 0.1917853\ttotal: 1.13s\tremaining: 21.4s\n",
            "50:\tlearn: 0.1916932\ttotal: 1.15s\tremaining: 21.3s\n",
            "51:\tlearn: 0.1916216\ttotal: 1.17s\tremaining: 21.3s\n",
            "52:\tlearn: 0.1915512\ttotal: 1.19s\tremaining: 21.2s\n",
            "53:\tlearn: 0.1914713\ttotal: 1.21s\tremaining: 21.2s\n",
            "54:\tlearn: 0.1914063\ttotal: 1.23s\tremaining: 21.2s\n",
            "55:\tlearn: 0.1913533\ttotal: 1.25s\tremaining: 21.1s\n",
            "56:\tlearn: 0.1913193\ttotal: 1.27s\tremaining: 21.1s\n",
            "57:\tlearn: 0.1912671\ttotal: 1.29s\tremaining: 21s\n",
            "58:\tlearn: 0.1912133\ttotal: 1.31s\tremaining: 20.9s\n",
            "59:\tlearn: 0.1911554\ttotal: 1.34s\tremaining: 20.9s\n",
            "60:\tlearn: 0.1910894\ttotal: 1.36s\tremaining: 20.9s\n",
            "61:\tlearn: 0.1910511\ttotal: 1.38s\tremaining: 20.9s\n",
            "62:\tlearn: 0.1909976\ttotal: 1.4s\tremaining: 20.8s\n",
            "63:\tlearn: 0.1909462\ttotal: 1.42s\tremaining: 20.8s\n",
            "64:\tlearn: 0.1908934\ttotal: 1.46s\tremaining: 21s\n",
            "65:\tlearn: 0.1908616\ttotal: 1.48s\tremaining: 20.9s\n",
            "66:\tlearn: 0.1908206\ttotal: 1.5s\tremaining: 20.8s\n",
            "67:\tlearn: 0.1907879\ttotal: 1.51s\tremaining: 20.8s\n",
            "68:\tlearn: 0.1907523\ttotal: 1.53s\tremaining: 20.7s\n",
            "69:\tlearn: 0.1907202\ttotal: 1.56s\tremaining: 20.7s\n",
            "70:\tlearn: 0.1906902\ttotal: 1.58s\tremaining: 20.7s\n",
            "71:\tlearn: 0.1906498\ttotal: 1.6s\tremaining: 20.6s\n",
            "72:\tlearn: 0.1906060\ttotal: 1.62s\tremaining: 20.5s\n",
            "73:\tlearn: 0.1905703\ttotal: 1.64s\tremaining: 20.5s\n",
            "74:\tlearn: 0.1905254\ttotal: 1.67s\tremaining: 20.5s\n",
            "75:\tlearn: 0.1904993\ttotal: 1.69s\tremaining: 20.6s\n",
            "76:\tlearn: 0.1904742\ttotal: 1.71s\tremaining: 20.5s\n",
            "77:\tlearn: 0.1904350\ttotal: 1.73s\tremaining: 20.4s\n",
            "78:\tlearn: 0.1904031\ttotal: 1.75s\tremaining: 20.4s\n",
            "79:\tlearn: 0.1903567\ttotal: 1.77s\tremaining: 20.4s\n",
            "80:\tlearn: 0.1903216\ttotal: 1.8s\tremaining: 20.5s\n",
            "81:\tlearn: 0.1902851\ttotal: 1.83s\tremaining: 20.4s\n",
            "82:\tlearn: 0.1902469\ttotal: 1.85s\tremaining: 20.4s\n",
            "83:\tlearn: 0.1902318\ttotal: 1.88s\tremaining: 20.5s\n",
            "84:\tlearn: 0.1901949\ttotal: 1.9s\tremaining: 20.4s\n",
            "85:\tlearn: 0.1901539\ttotal: 1.92s\tremaining: 20.4s\n",
            "86:\tlearn: 0.1901122\ttotal: 1.94s\tremaining: 20.3s\n",
            "87:\tlearn: 0.1900814\ttotal: 1.96s\tremaining: 20.3s\n",
            "88:\tlearn: 0.1900702\ttotal: 1.98s\tremaining: 20.2s\n",
            "89:\tlearn: 0.1900442\ttotal: 2s\tremaining: 20.2s\n",
            "90:\tlearn: 0.1900205\ttotal: 2.02s\tremaining: 20.2s\n",
            "91:\tlearn: 0.1899998\ttotal: 2.04s\tremaining: 20.1s\n",
            "92:\tlearn: 0.1899776\ttotal: 2.06s\tremaining: 20.1s\n",
            "93:\tlearn: 0.1899477\ttotal: 2.08s\tremaining: 20.1s\n",
            "94:\tlearn: 0.1899223\ttotal: 2.12s\tremaining: 20.2s\n",
            "95:\tlearn: 0.1898898\ttotal: 2.15s\tremaining: 20.3s\n",
            "96:\tlearn: 0.1898713\ttotal: 2.17s\tremaining: 20.2s\n",
            "97:\tlearn: 0.1898530\ttotal: 2.19s\tremaining: 20.2s\n",
            "98:\tlearn: 0.1898435\ttotal: 2.21s\tremaining: 20.2s\n",
            "99:\tlearn: 0.1898160\ttotal: 2.24s\tremaining: 20.2s\n",
            "100:\tlearn: 0.1897769\ttotal: 2.26s\tremaining: 20.1s\n",
            "101:\tlearn: 0.1897560\ttotal: 2.29s\tremaining: 20.1s\n",
            "102:\tlearn: 0.1897383\ttotal: 2.31s\tremaining: 20.2s\n",
            "103:\tlearn: 0.1897049\ttotal: 2.34s\tremaining: 20.1s\n",
            "104:\tlearn: 0.1896827\ttotal: 2.36s\tremaining: 20.1s\n",
            "105:\tlearn: 0.1896385\ttotal: 2.38s\tremaining: 20.1s\n",
            "106:\tlearn: 0.1896187\ttotal: 2.4s\tremaining: 20s\n",
            "107:\tlearn: 0.1895888\ttotal: 2.42s\tremaining: 20s\n",
            "108:\tlearn: 0.1895619\ttotal: 2.44s\tremaining: 19.9s\n",
            "109:\tlearn: 0.1895219\ttotal: 2.46s\tremaining: 19.9s\n",
            "110:\tlearn: 0.1895078\ttotal: 2.48s\tremaining: 19.9s\n",
            "111:\tlearn: 0.1894831\ttotal: 2.51s\tremaining: 19.9s\n",
            "112:\tlearn: 0.1894647\ttotal: 2.53s\tremaining: 19.8s\n",
            "113:\tlearn: 0.1894453\ttotal: 2.55s\tremaining: 19.8s\n",
            "114:\tlearn: 0.1894252\ttotal: 2.56s\tremaining: 19.7s\n",
            "115:\tlearn: 0.1894045\ttotal: 2.58s\tremaining: 19.7s\n",
            "116:\tlearn: 0.1893923\ttotal: 2.61s\tremaining: 19.7s\n",
            "117:\tlearn: 0.1893629\ttotal: 2.63s\tremaining: 19.7s\n",
            "118:\tlearn: 0.1893491\ttotal: 2.65s\tremaining: 19.7s\n",
            "119:\tlearn: 0.1893384\ttotal: 2.67s\tremaining: 19.6s\n",
            "120:\tlearn: 0.1893034\ttotal: 2.7s\tremaining: 19.6s\n",
            "121:\tlearn: 0.1892834\ttotal: 2.73s\tremaining: 19.6s\n",
            "122:\tlearn: 0.1892546\ttotal: 2.75s\tremaining: 19.6s\n",
            "123:\tlearn: 0.1892241\ttotal: 2.77s\tremaining: 19.6s\n",
            "124:\tlearn: 0.1892112\ttotal: 2.81s\tremaining: 19.7s\n",
            "125:\tlearn: 0.1891876\ttotal: 2.83s\tremaining: 19.6s\n",
            "126:\tlearn: 0.1891635\ttotal: 2.85s\tremaining: 19.6s\n",
            "127:\tlearn: 0.1891277\ttotal: 2.87s\tremaining: 19.5s\n",
            "128:\tlearn: 0.1891146\ttotal: 2.89s\tremaining: 19.5s\n",
            "129:\tlearn: 0.1890856\ttotal: 2.91s\tremaining: 19.5s\n",
            "130:\tlearn: 0.1890663\ttotal: 2.93s\tremaining: 19.5s\n",
            "131:\tlearn: 0.1890325\ttotal: 2.95s\tremaining: 19.4s\n",
            "132:\tlearn: 0.1890049\ttotal: 2.98s\tremaining: 19.4s\n",
            "133:\tlearn: 0.1889756\ttotal: 3s\tremaining: 19.4s\n",
            "134:\tlearn: 0.1889452\ttotal: 3.02s\tremaining: 19.4s\n",
            "135:\tlearn: 0.1889306\ttotal: 3.04s\tremaining: 19.3s\n",
            "136:\tlearn: 0.1889171\ttotal: 3.06s\tremaining: 19.3s\n",
            "137:\tlearn: 0.1888853\ttotal: 3.08s\tremaining: 19.2s\n",
            "138:\tlearn: 0.1888657\ttotal: 3.1s\tremaining: 19.2s\n",
            "139:\tlearn: 0.1888359\ttotal: 3.12s\tremaining: 19.2s\n",
            "140:\tlearn: 0.1888210\ttotal: 3.15s\tremaining: 19.2s\n",
            "141:\tlearn: 0.1887997\ttotal: 3.17s\tremaining: 19.2s\n",
            "142:\tlearn: 0.1887828\ttotal: 3.19s\tremaining: 19.1s\n",
            "143:\tlearn: 0.1887535\ttotal: 3.21s\tremaining: 19.1s\n",
            "144:\tlearn: 0.1887361\ttotal: 3.23s\tremaining: 19s\n",
            "145:\tlearn: 0.1887032\ttotal: 3.25s\tremaining: 19s\n",
            "146:\tlearn: 0.1886607\ttotal: 3.27s\tremaining: 19s\n",
            "147:\tlearn: 0.1886442\ttotal: 3.29s\tremaining: 18.9s\n",
            "148:\tlearn: 0.1886233\ttotal: 3.31s\tremaining: 18.9s\n",
            "149:\tlearn: 0.1886059\ttotal: 3.37s\tremaining: 19.1s\n",
            "150:\tlearn: 0.1885768\ttotal: 3.4s\tremaining: 19.1s\n",
            "151:\tlearn: 0.1885600\ttotal: 3.42s\tremaining: 19.1s\n",
            "152:\tlearn: 0.1885400\ttotal: 3.44s\tremaining: 19s\n",
            "153:\tlearn: 0.1885191\ttotal: 3.46s\tremaining: 19s\n",
            "154:\tlearn: 0.1885002\ttotal: 3.48s\tremaining: 19s\n",
            "155:\tlearn: 0.1884812\ttotal: 3.5s\tremaining: 18.9s\n",
            "156:\tlearn: 0.1884716\ttotal: 3.51s\tremaining: 18.9s\n",
            "157:\tlearn: 0.1884434\ttotal: 3.53s\tremaining: 18.8s\n",
            "158:\tlearn: 0.1884282\ttotal: 3.55s\tremaining: 18.8s\n",
            "159:\tlearn: 0.1884003\ttotal: 3.58s\tremaining: 18.8s\n",
            "160:\tlearn: 0.1883826\ttotal: 3.6s\tremaining: 18.7s\n",
            "161:\tlearn: 0.1883594\ttotal: 3.62s\tremaining: 18.7s\n",
            "162:\tlearn: 0.1883421\ttotal: 3.64s\tremaining: 18.7s\n",
            "163:\tlearn: 0.1883242\ttotal: 3.66s\tremaining: 18.7s\n",
            "164:\tlearn: 0.1883090\ttotal: 3.68s\tremaining: 18.6s\n",
            "165:\tlearn: 0.1882905\ttotal: 3.7s\tremaining: 18.6s\n",
            "166:\tlearn: 0.1882577\ttotal: 3.72s\tremaining: 18.5s\n",
            "167:\tlearn: 0.1882238\ttotal: 3.74s\tremaining: 18.5s\n",
            "168:\tlearn: 0.1881897\ttotal: 3.76s\tremaining: 18.5s\n",
            "169:\tlearn: 0.1881504\ttotal: 3.78s\tremaining: 18.5s\n",
            "170:\tlearn: 0.1881224\ttotal: 3.82s\tremaining: 18.5s\n",
            "171:\tlearn: 0.1880940\ttotal: 3.84s\tremaining: 18.5s\n",
            "172:\tlearn: 0.1880731\ttotal: 3.86s\tremaining: 18.5s\n",
            "173:\tlearn: 0.1880572\ttotal: 3.88s\tremaining: 18.4s\n",
            "174:\tlearn: 0.1880409\ttotal: 3.9s\tremaining: 18.4s\n",
            "175:\tlearn: 0.1880138\ttotal: 3.93s\tremaining: 18.4s\n",
            "176:\tlearn: 0.1879878\ttotal: 3.95s\tremaining: 18.4s\n",
            "177:\tlearn: 0.1879575\ttotal: 3.97s\tremaining: 18.3s\n",
            "178:\tlearn: 0.1879408\ttotal: 4s\tremaining: 18.3s\n",
            "179:\tlearn: 0.1879113\ttotal: 4.02s\tremaining: 18.3s\n",
            "180:\tlearn: 0.1878992\ttotal: 4.04s\tremaining: 18.3s\n",
            "181:\tlearn: 0.1878861\ttotal: 4.06s\tremaining: 18.2s\n",
            "182:\tlearn: 0.1878667\ttotal: 4.07s\tremaining: 18.2s\n",
            "183:\tlearn: 0.1878364\ttotal: 4.09s\tremaining: 18.2s\n",
            "184:\tlearn: 0.1878230\ttotal: 4.11s\tremaining: 18.1s\n",
            "185:\tlearn: 0.1877955\ttotal: 4.14s\tremaining: 18.1s\n",
            "186:\tlearn: 0.1877658\ttotal: 4.16s\tremaining: 18.1s\n",
            "187:\tlearn: 0.1877408\ttotal: 4.18s\tremaining: 18s\n",
            "188:\tlearn: 0.1877224\ttotal: 4.2s\tremaining: 18s\n",
            "189:\tlearn: 0.1877046\ttotal: 4.22s\tremaining: 18s\n",
            "190:\tlearn: 0.1876860\ttotal: 4.24s\tremaining: 18s\n",
            "191:\tlearn: 0.1876726\ttotal: 4.26s\tremaining: 17.9s\n",
            "192:\tlearn: 0.1876559\ttotal: 4.29s\tremaining: 17.9s\n",
            "193:\tlearn: 0.1876481\ttotal: 4.3s\tremaining: 17.9s\n",
            "194:\tlearn: 0.1876336\ttotal: 4.32s\tremaining: 17.8s\n",
            "195:\tlearn: 0.1875956\ttotal: 4.34s\tremaining: 17.8s\n",
            "196:\tlearn: 0.1875783\ttotal: 4.36s\tremaining: 17.8s\n",
            "197:\tlearn: 0.1875615\ttotal: 4.38s\tremaining: 17.8s\n",
            "198:\tlearn: 0.1875396\ttotal: 4.41s\tremaining: 17.7s\n",
            "199:\tlearn: 0.1875288\ttotal: 4.42s\tremaining: 17.7s\n",
            "200:\tlearn: 0.1875124\ttotal: 4.44s\tremaining: 17.7s\n",
            "201:\tlearn: 0.1874884\ttotal: 4.46s\tremaining: 17.6s\n",
            "202:\tlearn: 0.1874688\ttotal: 4.49s\tremaining: 17.6s\n",
            "203:\tlearn: 0.1874509\ttotal: 4.51s\tremaining: 17.6s\n",
            "204:\tlearn: 0.1874289\ttotal: 4.53s\tremaining: 17.6s\n",
            "205:\tlearn: 0.1874177\ttotal: 4.55s\tremaining: 17.5s\n",
            "206:\tlearn: 0.1874012\ttotal: 4.57s\tremaining: 17.5s\n",
            "207:\tlearn: 0.1873833\ttotal: 4.59s\tremaining: 17.5s\n",
            "208:\tlearn: 0.1873660\ttotal: 4.62s\tremaining: 17.5s\n",
            "209:\tlearn: 0.1873434\ttotal: 4.64s\tremaining: 17.5s\n",
            "210:\tlearn: 0.1873210\ttotal: 4.67s\tremaining: 17.4s\n",
            "211:\tlearn: 0.1873009\ttotal: 4.68s\tremaining: 17.4s\n",
            "212:\tlearn: 0.1872693\ttotal: 4.71s\tremaining: 17.4s\n",
            "213:\tlearn: 0.1872477\ttotal: 4.73s\tremaining: 17.4s\n",
            "214:\tlearn: 0.1872349\ttotal: 4.75s\tremaining: 17.3s\n",
            "215:\tlearn: 0.1872086\ttotal: 4.77s\tremaining: 17.3s\n",
            "216:\tlearn: 0.1871840\ttotal: 4.79s\tremaining: 17.3s\n",
            "217:\tlearn: 0.1871668\ttotal: 4.82s\tremaining: 17.3s\n",
            "218:\tlearn: 0.1871563\ttotal: 4.84s\tremaining: 17.3s\n",
            "219:\tlearn: 0.1871140\ttotal: 4.87s\tremaining: 17.3s\n",
            "220:\tlearn: 0.1870880\ttotal: 4.89s\tremaining: 17.2s\n",
            "221:\tlearn: 0.1870730\ttotal: 4.91s\tremaining: 17.2s\n",
            "222:\tlearn: 0.1870530\ttotal: 4.93s\tremaining: 17.2s\n",
            "223:\tlearn: 0.1870377\ttotal: 4.95s\tremaining: 17.1s\n",
            "224:\tlearn: 0.1870172\ttotal: 4.97s\tremaining: 17.1s\n",
            "225:\tlearn: 0.1869934\ttotal: 4.99s\tremaining: 17.1s\n",
            "226:\tlearn: 0.1869772\ttotal: 5.01s\tremaining: 17.1s\n",
            "227:\tlearn: 0.1869578\ttotal: 5.04s\tremaining: 17.1s\n",
            "228:\tlearn: 0.1869338\ttotal: 5.06s\tremaining: 17s\n",
            "229:\tlearn: 0.1869196\ttotal: 5.08s\tremaining: 17s\n",
            "230:\tlearn: 0.1869054\ttotal: 5.1s\tremaining: 17s\n",
            "231:\tlearn: 0.1868933\ttotal: 5.12s\tremaining: 16.9s\n",
            "232:\tlearn: 0.1868722\ttotal: 5.14s\tremaining: 16.9s\n",
            "233:\tlearn: 0.1868572\ttotal: 5.16s\tremaining: 16.9s\n",
            "234:\tlearn: 0.1868474\ttotal: 5.18s\tremaining: 16.9s\n",
            "235:\tlearn: 0.1868235\ttotal: 5.2s\tremaining: 16.8s\n",
            "236:\tlearn: 0.1868018\ttotal: 5.22s\tremaining: 16.8s\n",
            "237:\tlearn: 0.1867780\ttotal: 5.24s\tremaining: 16.8s\n",
            "238:\tlearn: 0.1867550\ttotal: 5.26s\tremaining: 16.8s\n",
            "239:\tlearn: 0.1867337\ttotal: 5.29s\tremaining: 16.7s\n",
            "240:\tlearn: 0.1867084\ttotal: 5.31s\tremaining: 16.7s\n",
            "241:\tlearn: 0.1866896\ttotal: 5.33s\tremaining: 16.7s\n",
            "242:\tlearn: 0.1866757\ttotal: 5.35s\tremaining: 16.7s\n",
            "243:\tlearn: 0.1866623\ttotal: 5.37s\tremaining: 16.6s\n",
            "244:\tlearn: 0.1866499\ttotal: 5.39s\tremaining: 16.6s\n",
            "245:\tlearn: 0.1866292\ttotal: 5.41s\tremaining: 16.6s\n",
            "246:\tlearn: 0.1866011\ttotal: 5.43s\tremaining: 16.6s\n",
            "247:\tlearn: 0.1865759\ttotal: 5.46s\tremaining: 16.5s\n",
            "248:\tlearn: 0.1865536\ttotal: 5.48s\tremaining: 16.5s\n",
            "249:\tlearn: 0.1865442\ttotal: 5.5s\tremaining: 16.5s\n",
            "250:\tlearn: 0.1865231\ttotal: 5.52s\tremaining: 16.5s\n",
            "251:\tlearn: 0.1865062\ttotal: 5.54s\tremaining: 16.5s\n",
            "252:\tlearn: 0.1864819\ttotal: 5.57s\tremaining: 16.4s\n",
            "253:\tlearn: 0.1864663\ttotal: 5.59s\tremaining: 16.4s\n",
            "254:\tlearn: 0.1864530\ttotal: 5.61s\tremaining: 16.4s\n",
            "255:\tlearn: 0.1864302\ttotal: 5.63s\tremaining: 16.3s\n",
            "256:\tlearn: 0.1864117\ttotal: 5.64s\tremaining: 16.3s\n",
            "257:\tlearn: 0.1863963\ttotal: 5.66s\tremaining: 16.3s\n",
            "258:\tlearn: 0.1863817\ttotal: 5.69s\tremaining: 16.3s\n",
            "259:\tlearn: 0.1863650\ttotal: 5.71s\tremaining: 16.2s\n",
            "260:\tlearn: 0.1863367\ttotal: 5.73s\tremaining: 16.2s\n",
            "261:\tlearn: 0.1863240\ttotal: 5.75s\tremaining: 16.2s\n",
            "262:\tlearn: 0.1863123\ttotal: 5.77s\tremaining: 16.2s\n",
            "263:\tlearn: 0.1862882\ttotal: 5.8s\tremaining: 16.2s\n",
            "264:\tlearn: 0.1862750\ttotal: 5.83s\tremaining: 16.2s\n",
            "265:\tlearn: 0.1862574\ttotal: 5.85s\tremaining: 16.1s\n",
            "266:\tlearn: 0.1862511\ttotal: 5.87s\tremaining: 16.1s\n",
            "267:\tlearn: 0.1862292\ttotal: 5.89s\tremaining: 16.1s\n",
            "268:\tlearn: 0.1862071\ttotal: 5.92s\tremaining: 16.1s\n",
            "269:\tlearn: 0.1861851\ttotal: 5.95s\tremaining: 16.1s\n",
            "270:\tlearn: 0.1861777\ttotal: 5.97s\tremaining: 16.1s\n",
            "271:\tlearn: 0.1861643\ttotal: 5.99s\tremaining: 16s\n",
            "272:\tlearn: 0.1861441\ttotal: 6.01s\tremaining: 16s\n",
            "273:\tlearn: 0.1861278\ttotal: 6.04s\tremaining: 16s\n",
            "274:\tlearn: 0.1861028\ttotal: 6.05s\tremaining: 16s\n",
            "275:\tlearn: 0.1860872\ttotal: 6.07s\tremaining: 15.9s\n",
            "276:\tlearn: 0.1860707\ttotal: 6.09s\tremaining: 15.9s\n",
            "277:\tlearn: 0.1860590\ttotal: 6.12s\tremaining: 15.9s\n",
            "278:\tlearn: 0.1860433\ttotal: 6.14s\tremaining: 15.9s\n",
            "279:\tlearn: 0.1860332\ttotal: 6.16s\tremaining: 15.8s\n",
            "280:\tlearn: 0.1860138\ttotal: 6.18s\tremaining: 15.8s\n",
            "281:\tlearn: 0.1859928\ttotal: 6.2s\tremaining: 15.8s\n",
            "282:\tlearn: 0.1859775\ttotal: 6.22s\tremaining: 15.8s\n",
            "283:\tlearn: 0.1859563\ttotal: 6.24s\tremaining: 15.7s\n",
            "284:\tlearn: 0.1859351\ttotal: 6.26s\tremaining: 15.7s\n",
            "285:\tlearn: 0.1859170\ttotal: 6.28s\tremaining: 15.7s\n",
            "286:\tlearn: 0.1858962\ttotal: 6.31s\tremaining: 15.7s\n",
            "287:\tlearn: 0.1858872\ttotal: 6.33s\tremaining: 15.6s\n",
            "288:\tlearn: 0.1858678\ttotal: 6.35s\tremaining: 15.6s\n",
            "289:\tlearn: 0.1858498\ttotal: 6.37s\tremaining: 15.6s\n",
            "290:\tlearn: 0.1858322\ttotal: 6.39s\tremaining: 15.6s\n",
            "291:\tlearn: 0.1858069\ttotal: 6.41s\tremaining: 15.5s\n",
            "292:\tlearn: 0.1857966\ttotal: 6.43s\tremaining: 15.5s\n",
            "293:\tlearn: 0.1857863\ttotal: 6.45s\tremaining: 15.5s\n",
            "294:\tlearn: 0.1857666\ttotal: 6.47s\tremaining: 15.5s\n",
            "295:\tlearn: 0.1857488\ttotal: 6.49s\tremaining: 15.4s\n",
            "296:\tlearn: 0.1857269\ttotal: 6.51s\tremaining: 15.4s\n",
            "297:\tlearn: 0.1857121\ttotal: 6.54s\tremaining: 15.4s\n",
            "298:\tlearn: 0.1856969\ttotal: 6.56s\tremaining: 15.4s\n",
            "299:\tlearn: 0.1856792\ttotal: 6.58s\tremaining: 15.4s\n",
            "300:\tlearn: 0.1856587\ttotal: 6.6s\tremaining: 15.3s\n",
            "301:\tlearn: 0.1856414\ttotal: 6.62s\tremaining: 15.3s\n",
            "302:\tlearn: 0.1856280\ttotal: 6.64s\tremaining: 15.3s\n",
            "303:\tlearn: 0.1856161\ttotal: 6.66s\tremaining: 15.2s\n",
            "304:\tlearn: 0.1855955\ttotal: 6.68s\tremaining: 15.2s\n",
            "305:\tlearn: 0.1855816\ttotal: 6.7s\tremaining: 15.2s\n",
            "306:\tlearn: 0.1855654\ttotal: 6.72s\tremaining: 15.2s\n",
            "307:\tlearn: 0.1855558\ttotal: 6.74s\tremaining: 15.2s\n",
            "308:\tlearn: 0.1855412\ttotal: 6.76s\tremaining: 15.1s\n",
            "309:\tlearn: 0.1855325\ttotal: 6.78s\tremaining: 15.1s\n",
            "310:\tlearn: 0.1855208\ttotal: 6.8s\tremaining: 15.1s\n",
            "311:\tlearn: 0.1855128\ttotal: 6.84s\tremaining: 15.1s\n",
            "312:\tlearn: 0.1855028\ttotal: 6.86s\tremaining: 15.1s\n",
            "313:\tlearn: 0.1854845\ttotal: 6.88s\tremaining: 15s\n",
            "314:\tlearn: 0.1854724\ttotal: 6.89s\tremaining: 15s\n",
            "315:\tlearn: 0.1854586\ttotal: 6.91s\tremaining: 15s\n",
            "316:\tlearn: 0.1854405\ttotal: 6.94s\tremaining: 15s\n",
            "317:\tlearn: 0.1854289\ttotal: 6.96s\tremaining: 14.9s\n",
            "318:\tlearn: 0.1854128\ttotal: 6.98s\tremaining: 14.9s\n",
            "319:\tlearn: 0.1853965\ttotal: 7.01s\tremaining: 14.9s\n",
            "320:\tlearn: 0.1853852\ttotal: 7.03s\tremaining: 14.9s\n",
            "321:\tlearn: 0.1853715\ttotal: 7.05s\tremaining: 14.8s\n",
            "322:\tlearn: 0.1853516\ttotal: 7.07s\tremaining: 14.8s\n",
            "323:\tlearn: 0.1853398\ttotal: 7.09s\tremaining: 14.8s\n",
            "324:\tlearn: 0.1853206\ttotal: 7.11s\tremaining: 14.8s\n",
            "325:\tlearn: 0.1853103\ttotal: 7.13s\tremaining: 14.7s\n",
            "326:\tlearn: 0.1852973\ttotal: 7.14s\tremaining: 14.7s\n",
            "327:\tlearn: 0.1852844\ttotal: 7.17s\tremaining: 14.7s\n",
            "328:\tlearn: 0.1852690\ttotal: 7.18s\tremaining: 14.7s\n",
            "329:\tlearn: 0.1852551\ttotal: 7.2s\tremaining: 14.6s\n",
            "330:\tlearn: 0.1852449\ttotal: 7.22s\tremaining: 14.6s\n",
            "331:\tlearn: 0.1852263\ttotal: 7.24s\tremaining: 14.6s\n",
            "332:\tlearn: 0.1852110\ttotal: 7.26s\tremaining: 14.5s\n",
            "333:\tlearn: 0.1852008\ttotal: 7.28s\tremaining: 14.5s\n",
            "334:\tlearn: 0.1851828\ttotal: 7.3s\tremaining: 14.5s\n",
            "335:\tlearn: 0.1851713\ttotal: 7.32s\tremaining: 14.5s\n",
            "336:\tlearn: 0.1851581\ttotal: 7.34s\tremaining: 14.4s\n",
            "337:\tlearn: 0.1851419\ttotal: 7.37s\tremaining: 14.4s\n",
            "338:\tlearn: 0.1851352\ttotal: 7.38s\tremaining: 14.4s\n",
            "339:\tlearn: 0.1851229\ttotal: 7.4s\tremaining: 14.4s\n",
            "340:\tlearn: 0.1851064\ttotal: 7.42s\tremaining: 14.3s\n",
            "341:\tlearn: 0.1850869\ttotal: 7.44s\tremaining: 14.3s\n",
            "342:\tlearn: 0.1850797\ttotal: 7.46s\tremaining: 14.3s\n",
            "343:\tlearn: 0.1850671\ttotal: 7.48s\tremaining: 14.3s\n",
            "344:\tlearn: 0.1850512\ttotal: 7.5s\tremaining: 14.2s\n",
            "345:\tlearn: 0.1850379\ttotal: 7.52s\tremaining: 14.2s\n",
            "346:\tlearn: 0.1850208\ttotal: 7.54s\tremaining: 14.2s\n",
            "347:\tlearn: 0.1850118\ttotal: 7.56s\tremaining: 14.2s\n",
            "348:\tlearn: 0.1849933\ttotal: 7.58s\tremaining: 14.2s\n",
            "349:\tlearn: 0.1849782\ttotal: 7.61s\tremaining: 14.1s\n",
            "350:\tlearn: 0.1849598\ttotal: 7.63s\tremaining: 14.1s\n",
            "351:\tlearn: 0.1849422\ttotal: 7.65s\tremaining: 14.1s\n",
            "352:\tlearn: 0.1849285\ttotal: 7.67s\tremaining: 14.1s\n",
            "353:\tlearn: 0.1849178\ttotal: 7.68s\tremaining: 14s\n",
            "354:\tlearn: 0.1848962\ttotal: 7.71s\tremaining: 14s\n",
            "355:\tlearn: 0.1848824\ttotal: 7.73s\tremaining: 14s\n",
            "356:\tlearn: 0.1848656\ttotal: 7.75s\tremaining: 14s\n",
            "357:\tlearn: 0.1848572\ttotal: 7.77s\tremaining: 13.9s\n",
            "358:\tlearn: 0.1848392\ttotal: 7.79s\tremaining: 13.9s\n",
            "359:\tlearn: 0.1848269\ttotal: 7.82s\tremaining: 13.9s\n",
            "360:\tlearn: 0.1848098\ttotal: 7.84s\tremaining: 13.9s\n",
            "361:\tlearn: 0.1847993\ttotal: 7.86s\tremaining: 13.9s\n",
            "362:\tlearn: 0.1847888\ttotal: 7.88s\tremaining: 13.8s\n",
            "363:\tlearn: 0.1847749\ttotal: 7.9s\tremaining: 13.8s\n",
            "364:\tlearn: 0.1847616\ttotal: 7.92s\tremaining: 13.8s\n",
            "365:\tlearn: 0.1847503\ttotal: 7.94s\tremaining: 13.8s\n",
            "366:\tlearn: 0.1847391\ttotal: 7.96s\tremaining: 13.7s\n",
            "367:\tlearn: 0.1847188\ttotal: 7.98s\tremaining: 13.7s\n",
            "368:\tlearn: 0.1847097\ttotal: 8s\tremaining: 13.7s\n",
            "369:\tlearn: 0.1847003\ttotal: 8.02s\tremaining: 13.7s\n",
            "370:\tlearn: 0.1846798\ttotal: 8.04s\tremaining: 13.6s\n",
            "371:\tlearn: 0.1846642\ttotal: 8.06s\tremaining: 13.6s\n",
            "372:\tlearn: 0.1846535\ttotal: 8.08s\tremaining: 13.6s\n",
            "373:\tlearn: 0.1846430\ttotal: 8.1s\tremaining: 13.6s\n",
            "374:\tlearn: 0.1846307\ttotal: 8.13s\tremaining: 13.5s\n",
            "375:\tlearn: 0.1846112\ttotal: 8.15s\tremaining: 13.5s\n",
            "376:\tlearn: 0.1845955\ttotal: 8.17s\tremaining: 13.5s\n",
            "377:\tlearn: 0.1845779\ttotal: 8.19s\tremaining: 13.5s\n",
            "378:\tlearn: 0.1845591\ttotal: 8.21s\tremaining: 13.5s\n",
            "379:\tlearn: 0.1845377\ttotal: 8.23s\tremaining: 13.4s\n",
            "380:\tlearn: 0.1845200\ttotal: 8.26s\tremaining: 13.4s\n",
            "381:\tlearn: 0.1845094\ttotal: 8.28s\tremaining: 13.4s\n",
            "382:\tlearn: 0.1844921\ttotal: 8.3s\tremaining: 13.4s\n",
            "383:\tlearn: 0.1844802\ttotal: 8.31s\tremaining: 13.3s\n",
            "384:\tlearn: 0.1844686\ttotal: 8.35s\tremaining: 13.3s\n",
            "385:\tlearn: 0.1844630\ttotal: 8.37s\tremaining: 13.3s\n",
            "386:\tlearn: 0.1844567\ttotal: 8.39s\tremaining: 13.3s\n",
            "387:\tlearn: 0.1844472\ttotal: 8.4s\tremaining: 13.3s\n",
            "388:\tlearn: 0.1844348\ttotal: 8.43s\tremaining: 13.2s\n",
            "389:\tlearn: 0.1844207\ttotal: 8.45s\tremaining: 13.2s\n",
            "390:\tlearn: 0.1844018\ttotal: 8.47s\tremaining: 13.2s\n",
            "391:\tlearn: 0.1843880\ttotal: 8.49s\tremaining: 13.2s\n",
            "392:\tlearn: 0.1843853\ttotal: 8.51s\tremaining: 13.1s\n",
            "393:\tlearn: 0.1843702\ttotal: 8.53s\tremaining: 13.1s\n",
            "394:\tlearn: 0.1843566\ttotal: 8.55s\tremaining: 13.1s\n",
            "395:\tlearn: 0.1843389\ttotal: 8.57s\tremaining: 13.1s\n",
            "396:\tlearn: 0.1843254\ttotal: 8.59s\tremaining: 13.1s\n",
            "397:\tlearn: 0.1843179\ttotal: 8.61s\tremaining: 13s\n",
            "398:\tlearn: 0.1843061\ttotal: 8.63s\tremaining: 13s\n",
            "399:\tlearn: 0.1842797\ttotal: 8.66s\tremaining: 13s\n",
            "400:\tlearn: 0.1842683\ttotal: 8.68s\tremaining: 13s\n",
            "401:\tlearn: 0.1842537\ttotal: 8.7s\tremaining: 12.9s\n",
            "402:\tlearn: 0.1842395\ttotal: 8.72s\tremaining: 12.9s\n",
            "403:\tlearn: 0.1842175\ttotal: 8.74s\tremaining: 12.9s\n",
            "404:\tlearn: 0.1842052\ttotal: 8.76s\tremaining: 12.9s\n",
            "405:\tlearn: 0.1841957\ttotal: 8.78s\tremaining: 12.8s\n",
            "406:\tlearn: 0.1841780\ttotal: 8.8s\tremaining: 12.8s\n",
            "407:\tlearn: 0.1841672\ttotal: 8.82s\tremaining: 12.8s\n",
            "408:\tlearn: 0.1841450\ttotal: 8.86s\tremaining: 12.8s\n",
            "409:\tlearn: 0.1841295\ttotal: 8.88s\tremaining: 12.8s\n",
            "410:\tlearn: 0.1841172\ttotal: 8.91s\tremaining: 12.8s\n",
            "411:\tlearn: 0.1841034\ttotal: 8.93s\tremaining: 12.7s\n",
            "412:\tlearn: 0.1840900\ttotal: 8.95s\tremaining: 12.7s\n",
            "413:\tlearn: 0.1840793\ttotal: 8.97s\tremaining: 12.7s\n",
            "414:\tlearn: 0.1840696\ttotal: 8.99s\tremaining: 12.7s\n",
            "415:\tlearn: 0.1840571\ttotal: 9.01s\tremaining: 12.7s\n",
            "416:\tlearn: 0.1840502\ttotal: 9.03s\tremaining: 12.6s\n",
            "417:\tlearn: 0.1840441\ttotal: 9.05s\tremaining: 12.6s\n",
            "418:\tlearn: 0.1840334\ttotal: 9.07s\tremaining: 12.6s\n",
            "419:\tlearn: 0.1840244\ttotal: 9.09s\tremaining: 12.6s\n",
            "420:\tlearn: 0.1840075\ttotal: 9.11s\tremaining: 12.5s\n",
            "421:\tlearn: 0.1839861\ttotal: 9.14s\tremaining: 12.5s\n",
            "422:\tlearn: 0.1839691\ttotal: 9.16s\tremaining: 12.5s\n",
            "423:\tlearn: 0.1839558\ttotal: 9.18s\tremaining: 12.5s\n",
            "424:\tlearn: 0.1839377\ttotal: 9.2s\tremaining: 12.4s\n",
            "425:\tlearn: 0.1839266\ttotal: 9.22s\tremaining: 12.4s\n",
            "426:\tlearn: 0.1839116\ttotal: 9.24s\tremaining: 12.4s\n",
            "427:\tlearn: 0.1838948\ttotal: 9.26s\tremaining: 12.4s\n",
            "428:\tlearn: 0.1838807\ttotal: 9.29s\tremaining: 12.4s\n",
            "429:\tlearn: 0.1838714\ttotal: 9.31s\tremaining: 12.3s\n",
            "430:\tlearn: 0.1838563\ttotal: 9.33s\tremaining: 12.3s\n",
            "431:\tlearn: 0.1838481\ttotal: 9.36s\tremaining: 12.3s\n",
            "432:\tlearn: 0.1838349\ttotal: 9.38s\tremaining: 12.3s\n",
            "433:\tlearn: 0.1838260\ttotal: 9.4s\tremaining: 12.3s\n",
            "434:\tlearn: 0.1838154\ttotal: 9.41s\tremaining: 12.2s\n",
            "435:\tlearn: 0.1837981\ttotal: 9.44s\tremaining: 12.2s\n",
            "436:\tlearn: 0.1837854\ttotal: 9.46s\tremaining: 12.2s\n",
            "437:\tlearn: 0.1837634\ttotal: 9.48s\tremaining: 12.2s\n",
            "438:\tlearn: 0.1837501\ttotal: 9.51s\tremaining: 12.1s\n",
            "439:\tlearn: 0.1837428\ttotal: 9.53s\tremaining: 12.1s\n",
            "440:\tlearn: 0.1837277\ttotal: 9.55s\tremaining: 12.1s\n",
            "441:\tlearn: 0.1837174\ttotal: 9.57s\tremaining: 12.1s\n",
            "442:\tlearn: 0.1836989\ttotal: 9.59s\tremaining: 12.1s\n",
            "443:\tlearn: 0.1836859\ttotal: 9.61s\tremaining: 12s\n",
            "444:\tlearn: 0.1836768\ttotal: 9.63s\tremaining: 12s\n",
            "445:\tlearn: 0.1836580\ttotal: 9.65s\tremaining: 12s\n",
            "446:\tlearn: 0.1836464\ttotal: 9.68s\tremaining: 12s\n",
            "447:\tlearn: 0.1836338\ttotal: 9.7s\tremaining: 11.9s\n",
            "448:\tlearn: 0.1836246\ttotal: 9.72s\tremaining: 11.9s\n",
            "449:\tlearn: 0.1836131\ttotal: 9.74s\tremaining: 11.9s\n",
            "450:\tlearn: 0.1835951\ttotal: 9.76s\tremaining: 11.9s\n",
            "451:\tlearn: 0.1835830\ttotal: 9.78s\tremaining: 11.9s\n",
            "452:\tlearn: 0.1835678\ttotal: 9.8s\tremaining: 11.8s\n",
            "453:\tlearn: 0.1835613\ttotal: 9.82s\tremaining: 11.8s\n",
            "454:\tlearn: 0.1835531\ttotal: 9.85s\tremaining: 11.8s\n",
            "455:\tlearn: 0.1835352\ttotal: 9.88s\tremaining: 11.8s\n",
            "456:\tlearn: 0.1835179\ttotal: 9.9s\tremaining: 11.8s\n",
            "457:\tlearn: 0.1835106\ttotal: 9.92s\tremaining: 11.7s\n",
            "458:\tlearn: 0.1834848\ttotal: 9.94s\tremaining: 11.7s\n",
            "459:\tlearn: 0.1834664\ttotal: 9.97s\tremaining: 11.7s\n",
            "460:\tlearn: 0.1834535\ttotal: 9.98s\tremaining: 11.7s\n",
            "461:\tlearn: 0.1834368\ttotal: 10s\tremaining: 11.7s\n",
            "462:\tlearn: 0.1834294\ttotal: 10s\tremaining: 11.6s\n",
            "463:\tlearn: 0.1834134\ttotal: 10.1s\tremaining: 11.6s\n",
            "464:\tlearn: 0.1833988\ttotal: 10.1s\tremaining: 11.6s\n",
            "465:\tlearn: 0.1833868\ttotal: 10.1s\tremaining: 11.6s\n",
            "466:\tlearn: 0.1833682\ttotal: 10.1s\tremaining: 11.5s\n",
            "467:\tlearn: 0.1833606\ttotal: 10.1s\tremaining: 11.5s\n",
            "468:\tlearn: 0.1833457\ttotal: 10.2s\tremaining: 11.5s\n",
            "469:\tlearn: 0.1833315\ttotal: 10.2s\tremaining: 11.5s\n",
            "470:\tlearn: 0.1833177\ttotal: 10.2s\tremaining: 11.5s\n",
            "471:\tlearn: 0.1833061\ttotal: 10.2s\tremaining: 11.4s\n",
            "472:\tlearn: 0.1832862\ttotal: 10.2s\tremaining: 11.4s\n",
            "473:\tlearn: 0.1832706\ttotal: 10.3s\tremaining: 11.4s\n",
            "474:\tlearn: 0.1832645\ttotal: 10.3s\tremaining: 11.4s\n",
            "475:\tlearn: 0.1832499\ttotal: 10.3s\tremaining: 11.3s\n",
            "476:\tlearn: 0.1832316\ttotal: 10.3s\tremaining: 11.3s\n",
            "477:\tlearn: 0.1832196\ttotal: 10.3s\tremaining: 11.3s\n",
            "478:\tlearn: 0.1831999\ttotal: 10.4s\tremaining: 11.3s\n",
            "479:\tlearn: 0.1831809\ttotal: 10.4s\tremaining: 11.3s\n",
            "480:\tlearn: 0.1831661\ttotal: 10.4s\tremaining: 11.2s\n",
            "481:\tlearn: 0.1831512\ttotal: 10.4s\tremaining: 11.2s\n",
            "482:\tlearn: 0.1831353\ttotal: 10.5s\tremaining: 11.2s\n",
            "483:\tlearn: 0.1831233\ttotal: 10.5s\tremaining: 11.2s\n",
            "484:\tlearn: 0.1831032\ttotal: 10.5s\tremaining: 11.2s\n",
            "485:\tlearn: 0.1830857\ttotal: 10.5s\tremaining: 11.1s\n",
            "486:\tlearn: 0.1830737\ttotal: 10.6s\tremaining: 11.1s\n",
            "487:\tlearn: 0.1830611\ttotal: 10.6s\tremaining: 11.1s\n",
            "488:\tlearn: 0.1830512\ttotal: 10.6s\tremaining: 11.1s\n",
            "489:\tlearn: 0.1830385\ttotal: 10.6s\tremaining: 11s\n",
            "490:\tlearn: 0.1830262\ttotal: 10.6s\tremaining: 11s\n",
            "491:\tlearn: 0.1830219\ttotal: 10.7s\tremaining: 11s\n",
            "492:\tlearn: 0.1830084\ttotal: 10.7s\tremaining: 11s\n",
            "493:\tlearn: 0.1829966\ttotal: 10.7s\tremaining: 11s\n",
            "494:\tlearn: 0.1829777\ttotal: 10.7s\tremaining: 10.9s\n",
            "495:\tlearn: 0.1829653\ttotal: 10.7s\tremaining: 10.9s\n",
            "496:\tlearn: 0.1829489\ttotal: 10.8s\tremaining: 10.9s\n",
            "497:\tlearn: 0.1829365\ttotal: 10.8s\tremaining: 10.9s\n",
            "498:\tlearn: 0.1829262\ttotal: 10.8s\tremaining: 10.8s\n",
            "499:\tlearn: 0.1829188\ttotal: 10.8s\tremaining: 10.8s\n",
            "500:\tlearn: 0.1828976\ttotal: 10.8s\tremaining: 10.8s\n",
            "501:\tlearn: 0.1828857\ttotal: 10.9s\tremaining: 10.8s\n",
            "502:\tlearn: 0.1828752\ttotal: 10.9s\tremaining: 10.8s\n",
            "503:\tlearn: 0.1828645\ttotal: 10.9s\tremaining: 10.7s\n",
            "504:\tlearn: 0.1828486\ttotal: 10.9s\tremaining: 10.7s\n",
            "505:\tlearn: 0.1828334\ttotal: 11s\tremaining: 10.7s\n",
            "506:\tlearn: 0.1828177\ttotal: 11s\tremaining: 10.7s\n",
            "507:\tlearn: 0.1828115\ttotal: 11s\tremaining: 10.7s\n",
            "508:\tlearn: 0.1827982\ttotal: 11s\tremaining: 10.6s\n",
            "509:\tlearn: 0.1827839\ttotal: 11s\tremaining: 10.6s\n",
            "510:\tlearn: 0.1827688\ttotal: 11.1s\tremaining: 10.6s\n",
            "511:\tlearn: 0.1827571\ttotal: 11.1s\tremaining: 10.6s\n",
            "512:\tlearn: 0.1827446\ttotal: 11.1s\tremaining: 10.5s\n",
            "513:\tlearn: 0.1827357\ttotal: 11.1s\tremaining: 10.5s\n",
            "514:\tlearn: 0.1827229\ttotal: 11.1s\tremaining: 10.5s\n",
            "515:\tlearn: 0.1827023\ttotal: 11.2s\tremaining: 10.5s\n",
            "516:\tlearn: 0.1826901\ttotal: 11.2s\tremaining: 10.5s\n",
            "517:\tlearn: 0.1826779\ttotal: 11.2s\tremaining: 10.4s\n",
            "518:\tlearn: 0.1826663\ttotal: 11.2s\tremaining: 10.4s\n",
            "519:\tlearn: 0.1826508\ttotal: 11.3s\tremaining: 10.4s\n",
            "520:\tlearn: 0.1826381\ttotal: 11.3s\tremaining: 10.4s\n",
            "521:\tlearn: 0.1826243\ttotal: 11.3s\tremaining: 10.3s\n",
            "522:\tlearn: 0.1826061\ttotal: 11.3s\tremaining: 10.3s\n",
            "523:\tlearn: 0.1825975\ttotal: 11.3s\tremaining: 10.3s\n",
            "524:\tlearn: 0.1825861\ttotal: 11.3s\tremaining: 10.3s\n",
            "525:\tlearn: 0.1825735\ttotal: 11.4s\tremaining: 10.2s\n",
            "526:\tlearn: 0.1825602\ttotal: 11.4s\tremaining: 10.2s\n",
            "527:\tlearn: 0.1825454\ttotal: 11.4s\tremaining: 10.2s\n",
            "528:\tlearn: 0.1825377\ttotal: 11.4s\tremaining: 10.2s\n",
            "529:\tlearn: 0.1825247\ttotal: 11.5s\tremaining: 10.2s\n",
            "530:\tlearn: 0.1825084\ttotal: 11.5s\tremaining: 10.1s\n",
            "531:\tlearn: 0.1824965\ttotal: 11.5s\tremaining: 10.1s\n",
            "532:\tlearn: 0.1824787\ttotal: 11.5s\tremaining: 10.1s\n",
            "533:\tlearn: 0.1824614\ttotal: 11.5s\tremaining: 10.1s\n",
            "534:\tlearn: 0.1824530\ttotal: 11.6s\tremaining: 10.1s\n",
            "535:\tlearn: 0.1824480\ttotal: 11.6s\tremaining: 10s\n",
            "536:\tlearn: 0.1824336\ttotal: 11.6s\tremaining: 10s\n",
            "537:\tlearn: 0.1824232\ttotal: 11.6s\tremaining: 9.99s\n",
            "538:\tlearn: 0.1824137\ttotal: 11.7s\tremaining: 9.96s\n",
            "539:\tlearn: 0.1823936\ttotal: 11.7s\tremaining: 9.94s\n",
            "540:\tlearn: 0.1823847\ttotal: 11.7s\tremaining: 9.92s\n",
            "541:\tlearn: 0.1823786\ttotal: 11.7s\tremaining: 9.9s\n",
            "542:\tlearn: 0.1823675\ttotal: 11.7s\tremaining: 9.88s\n",
            "543:\tlearn: 0.1823541\ttotal: 11.8s\tremaining: 9.85s\n",
            "544:\tlearn: 0.1823418\ttotal: 11.8s\tremaining: 9.83s\n",
            "545:\tlearn: 0.1823281\ttotal: 11.8s\tremaining: 9.8s\n",
            "546:\tlearn: 0.1823180\ttotal: 11.8s\tremaining: 9.78s\n",
            "547:\tlearn: 0.1823025\ttotal: 11.8s\tremaining: 9.76s\n",
            "548:\tlearn: 0.1822931\ttotal: 11.9s\tremaining: 9.75s\n",
            "549:\tlearn: 0.1822815\ttotal: 11.9s\tremaining: 9.73s\n",
            "550:\tlearn: 0.1822701\ttotal: 11.9s\tremaining: 9.71s\n",
            "551:\tlearn: 0.1822590\ttotal: 11.9s\tremaining: 9.68s\n",
            "552:\tlearn: 0.1822454\ttotal: 12s\tremaining: 9.66s\n",
            "553:\tlearn: 0.1822306\ttotal: 12s\tremaining: 9.64s\n",
            "554:\tlearn: 0.1822152\ttotal: 12s\tremaining: 9.62s\n",
            "555:\tlearn: 0.1822012\ttotal: 12s\tremaining: 9.59s\n",
            "556:\tlearn: 0.1821906\ttotal: 12s\tremaining: 9.57s\n",
            "557:\tlearn: 0.1821736\ttotal: 12.1s\tremaining: 9.55s\n",
            "558:\tlearn: 0.1821648\ttotal: 12.1s\tremaining: 9.53s\n",
            "559:\tlearn: 0.1821516\ttotal: 12.1s\tremaining: 9.51s\n",
            "560:\tlearn: 0.1821362\ttotal: 12.1s\tremaining: 9.48s\n",
            "561:\tlearn: 0.1821180\ttotal: 12.1s\tremaining: 9.46s\n",
            "562:\tlearn: 0.1821036\ttotal: 12.2s\tremaining: 9.44s\n",
            "563:\tlearn: 0.1820887\ttotal: 12.2s\tremaining: 9.42s\n",
            "564:\tlearn: 0.1820769\ttotal: 12.2s\tremaining: 9.39s\n",
            "565:\tlearn: 0.1820686\ttotal: 12.2s\tremaining: 9.37s\n",
            "566:\tlearn: 0.1820571\ttotal: 12.2s\tremaining: 9.35s\n",
            "567:\tlearn: 0.1820492\ttotal: 12.3s\tremaining: 9.33s\n",
            "568:\tlearn: 0.1820360\ttotal: 12.3s\tremaining: 9.31s\n",
            "569:\tlearn: 0.1820223\ttotal: 12.3s\tremaining: 9.3s\n",
            "570:\tlearn: 0.1819989\ttotal: 12.4s\tremaining: 9.29s\n",
            "571:\tlearn: 0.1819841\ttotal: 12.4s\tremaining: 9.27s\n",
            "572:\tlearn: 0.1819753\ttotal: 12.4s\tremaining: 9.24s\n",
            "573:\tlearn: 0.1819654\ttotal: 12.4s\tremaining: 9.22s\n",
            "574:\tlearn: 0.1819550\ttotal: 12.4s\tremaining: 9.2s\n",
            "575:\tlearn: 0.1819482\ttotal: 12.5s\tremaining: 9.17s\n",
            "576:\tlearn: 0.1819296\ttotal: 12.5s\tremaining: 9.15s\n",
            "577:\tlearn: 0.1819201\ttotal: 12.5s\tremaining: 9.13s\n",
            "578:\tlearn: 0.1819086\ttotal: 12.5s\tremaining: 9.11s\n",
            "579:\tlearn: 0.1818974\ttotal: 12.5s\tremaining: 9.09s\n",
            "580:\tlearn: 0.1818937\ttotal: 12.6s\tremaining: 9.06s\n",
            "581:\tlearn: 0.1818845\ttotal: 12.6s\tremaining: 9.04s\n",
            "582:\tlearn: 0.1818723\ttotal: 12.6s\tremaining: 9.02s\n",
            "583:\tlearn: 0.1818613\ttotal: 12.6s\tremaining: 8.99s\n",
            "584:\tlearn: 0.1818482\ttotal: 12.6s\tremaining: 8.97s\n",
            "585:\tlearn: 0.1818306\ttotal: 12.7s\tremaining: 8.95s\n",
            "586:\tlearn: 0.1818219\ttotal: 12.7s\tremaining: 8.93s\n",
            "587:\tlearn: 0.1818105\ttotal: 12.7s\tremaining: 8.91s\n",
            "588:\tlearn: 0.1817962\ttotal: 12.7s\tremaining: 8.88s\n",
            "589:\tlearn: 0.1817885\ttotal: 12.8s\tremaining: 8.86s\n",
            "590:\tlearn: 0.1817796\ttotal: 12.8s\tremaining: 8.84s\n",
            "591:\tlearn: 0.1817681\ttotal: 12.8s\tremaining: 8.82s\n",
            "592:\tlearn: 0.1817583\ttotal: 12.8s\tremaining: 8.79s\n",
            "593:\tlearn: 0.1817499\ttotal: 12.8s\tremaining: 8.77s\n",
            "594:\tlearn: 0.1817365\ttotal: 12.9s\tremaining: 8.75s\n",
            "595:\tlearn: 0.1817254\ttotal: 12.9s\tremaining: 8.73s\n",
            "596:\tlearn: 0.1817049\ttotal: 12.9s\tremaining: 8.72s\n",
            "597:\tlearn: 0.1816961\ttotal: 12.9s\tremaining: 8.69s\n",
            "598:\tlearn: 0.1816771\ttotal: 13s\tremaining: 8.67s\n",
            "599:\tlearn: 0.1816642\ttotal: 13s\tremaining: 8.65s\n",
            "600:\tlearn: 0.1816514\ttotal: 13s\tremaining: 8.63s\n",
            "601:\tlearn: 0.1816410\ttotal: 13s\tremaining: 8.61s\n",
            "602:\tlearn: 0.1816298\ttotal: 13s\tremaining: 8.58s\n",
            "603:\tlearn: 0.1816209\ttotal: 13.1s\tremaining: 8.56s\n",
            "604:\tlearn: 0.1816033\ttotal: 13.1s\tremaining: 8.54s\n",
            "605:\tlearn: 0.1815933\ttotal: 13.1s\tremaining: 8.52s\n",
            "606:\tlearn: 0.1815771\ttotal: 13.1s\tremaining: 8.5s\n",
            "607:\tlearn: 0.1815670\ttotal: 13.1s\tremaining: 8.48s\n",
            "608:\tlearn: 0.1815512\ttotal: 13.2s\tremaining: 8.45s\n",
            "609:\tlearn: 0.1815400\ttotal: 13.2s\tremaining: 8.43s\n",
            "610:\tlearn: 0.1815282\ttotal: 13.2s\tremaining: 8.41s\n",
            "611:\tlearn: 0.1815147\ttotal: 13.2s\tremaining: 8.39s\n",
            "612:\tlearn: 0.1815042\ttotal: 13.2s\tremaining: 8.36s\n",
            "613:\tlearn: 0.1814874\ttotal: 13.3s\tremaining: 8.34s\n",
            "614:\tlearn: 0.1814744\ttotal: 13.3s\tremaining: 8.32s\n",
            "615:\tlearn: 0.1814575\ttotal: 13.3s\tremaining: 8.3s\n",
            "616:\tlearn: 0.1814473\ttotal: 13.3s\tremaining: 8.28s\n",
            "617:\tlearn: 0.1814315\ttotal: 13.4s\tremaining: 8.26s\n",
            "618:\tlearn: 0.1814161\ttotal: 13.4s\tremaining: 8.23s\n",
            "619:\tlearn: 0.1814052\ttotal: 13.4s\tremaining: 8.21s\n",
            "620:\tlearn: 0.1813948\ttotal: 13.4s\tremaining: 8.19s\n",
            "621:\tlearn: 0.1813798\ttotal: 13.4s\tremaining: 8.17s\n",
            "622:\tlearn: 0.1813649\ttotal: 13.5s\tremaining: 8.15s\n",
            "623:\tlearn: 0.1813551\ttotal: 13.5s\tremaining: 8.12s\n",
            "624:\tlearn: 0.1813410\ttotal: 13.5s\tremaining: 8.1s\n",
            "625:\tlearn: 0.1813251\ttotal: 13.5s\tremaining: 8.08s\n",
            "626:\tlearn: 0.1813100\ttotal: 13.5s\tremaining: 8.06s\n",
            "627:\tlearn: 0.1812995\ttotal: 13.6s\tremaining: 8.03s\n",
            "628:\tlearn: 0.1812909\ttotal: 13.6s\tremaining: 8.01s\n",
            "629:\tlearn: 0.1812829\ttotal: 13.6s\tremaining: 7.99s\n",
            "630:\tlearn: 0.1812797\ttotal: 13.6s\tremaining: 7.96s\n",
            "631:\tlearn: 0.1812674\ttotal: 13.6s\tremaining: 7.94s\n",
            "632:\tlearn: 0.1812598\ttotal: 13.7s\tremaining: 7.92s\n",
            "633:\tlearn: 0.1812506\ttotal: 13.7s\tremaining: 7.89s\n",
            "634:\tlearn: 0.1812432\ttotal: 13.7s\tremaining: 7.87s\n",
            "635:\tlearn: 0.1812327\ttotal: 13.7s\tremaining: 7.85s\n",
            "636:\tlearn: 0.1812200\ttotal: 13.7s\tremaining: 7.83s\n",
            "637:\tlearn: 0.1812096\ttotal: 13.8s\tremaining: 7.81s\n",
            "638:\tlearn: 0.1811943\ttotal: 13.8s\tremaining: 7.79s\n",
            "639:\tlearn: 0.1811823\ttotal: 13.8s\tremaining: 7.77s\n",
            "640:\tlearn: 0.1811620\ttotal: 13.8s\tremaining: 7.75s\n",
            "641:\tlearn: 0.1811508\ttotal: 13.9s\tremaining: 7.72s\n",
            "642:\tlearn: 0.1811385\ttotal: 13.9s\tremaining: 7.71s\n",
            "643:\tlearn: 0.1811213\ttotal: 13.9s\tremaining: 7.69s\n",
            "644:\tlearn: 0.1811133\ttotal: 13.9s\tremaining: 7.67s\n",
            "645:\tlearn: 0.1810998\ttotal: 14s\tremaining: 7.65s\n",
            "646:\tlearn: 0.1810899\ttotal: 14s\tremaining: 7.62s\n",
            "647:\tlearn: 0.1810670\ttotal: 14s\tremaining: 7.6s\n",
            "648:\tlearn: 0.1810642\ttotal: 14s\tremaining: 7.58s\n",
            "649:\tlearn: 0.1810498\ttotal: 14s\tremaining: 7.56s\n",
            "650:\tlearn: 0.1810332\ttotal: 14.1s\tremaining: 7.53s\n",
            "651:\tlearn: 0.1810204\ttotal: 14.1s\tremaining: 7.51s\n",
            "652:\tlearn: 0.1810113\ttotal: 14.1s\tremaining: 7.49s\n",
            "653:\tlearn: 0.1809952\ttotal: 14.1s\tremaining: 7.47s\n",
            "654:\tlearn: 0.1809788\ttotal: 14.1s\tremaining: 7.45s\n",
            "655:\tlearn: 0.1809688\ttotal: 14.2s\tremaining: 7.43s\n",
            "656:\tlearn: 0.1809550\ttotal: 14.2s\tremaining: 7.41s\n",
            "657:\tlearn: 0.1809451\ttotal: 14.2s\tremaining: 7.39s\n",
            "658:\tlearn: 0.1809368\ttotal: 14.2s\tremaining: 7.36s\n",
            "659:\tlearn: 0.1809323\ttotal: 14.2s\tremaining: 7.34s\n",
            "660:\tlearn: 0.1809188\ttotal: 14.3s\tremaining: 7.32s\n",
            "661:\tlearn: 0.1809107\ttotal: 14.3s\tremaining: 7.29s\n",
            "662:\tlearn: 0.1808994\ttotal: 14.3s\tremaining: 7.27s\n",
            "663:\tlearn: 0.1808897\ttotal: 14.3s\tremaining: 7.25s\n",
            "664:\tlearn: 0.1808748\ttotal: 14.3s\tremaining: 7.23s\n",
            "665:\tlearn: 0.1808676\ttotal: 14.4s\tremaining: 7.2s\n",
            "666:\tlearn: 0.1808576\ttotal: 14.4s\tremaining: 7.18s\n",
            "667:\tlearn: 0.1808458\ttotal: 14.4s\tremaining: 7.16s\n",
            "668:\tlearn: 0.1808362\ttotal: 14.4s\tremaining: 7.14s\n",
            "669:\tlearn: 0.1808260\ttotal: 14.4s\tremaining: 7.12s\n",
            "670:\tlearn: 0.1808193\ttotal: 14.5s\tremaining: 7.09s\n",
            "671:\tlearn: 0.1808102\ttotal: 14.5s\tremaining: 7.07s\n",
            "672:\tlearn: 0.1807939\ttotal: 14.5s\tremaining: 7.05s\n",
            "673:\tlearn: 0.1807811\ttotal: 14.5s\tremaining: 7.03s\n",
            "674:\tlearn: 0.1807717\ttotal: 14.6s\tremaining: 7s\n",
            "675:\tlearn: 0.1807602\ttotal: 14.6s\tremaining: 6.98s\n",
            "676:\tlearn: 0.1807431\ttotal: 14.6s\tremaining: 6.96s\n",
            "677:\tlearn: 0.1807252\ttotal: 14.6s\tremaining: 6.94s\n",
            "678:\tlearn: 0.1807166\ttotal: 14.6s\tremaining: 6.92s\n",
            "679:\tlearn: 0.1807068\ttotal: 14.7s\tremaining: 6.9s\n",
            "680:\tlearn: 0.1806886\ttotal: 14.7s\tremaining: 6.88s\n",
            "681:\tlearn: 0.1806793\ttotal: 14.7s\tremaining: 6.85s\n",
            "682:\tlearn: 0.1806693\ttotal: 14.7s\tremaining: 6.83s\n",
            "683:\tlearn: 0.1806580\ttotal: 14.7s\tremaining: 6.81s\n",
            "684:\tlearn: 0.1806505\ttotal: 14.8s\tremaining: 6.78s\n",
            "685:\tlearn: 0.1806462\ttotal: 14.8s\tremaining: 6.76s\n",
            "686:\tlearn: 0.1806342\ttotal: 14.8s\tremaining: 6.74s\n",
            "687:\tlearn: 0.1806191\ttotal: 14.8s\tremaining: 6.72s\n",
            "688:\tlearn: 0.1806080\ttotal: 14.8s\tremaining: 6.7s\n",
            "689:\tlearn: 0.1805912\ttotal: 14.9s\tremaining: 6.67s\n",
            "690:\tlearn: 0.1805847\ttotal: 14.9s\tremaining: 6.66s\n",
            "691:\tlearn: 0.1805694\ttotal: 14.9s\tremaining: 6.64s\n",
            "692:\tlearn: 0.1805595\ttotal: 14.9s\tremaining: 6.62s\n",
            "693:\tlearn: 0.1805409\ttotal: 15s\tremaining: 6.6s\n",
            "694:\tlearn: 0.1805351\ttotal: 15s\tremaining: 6.57s\n",
            "695:\tlearn: 0.1805203\ttotal: 15s\tremaining: 6.55s\n",
            "696:\tlearn: 0.1805084\ttotal: 15s\tremaining: 6.53s\n",
            "697:\tlearn: 0.1804978\ttotal: 15s\tremaining: 6.51s\n",
            "698:\tlearn: 0.1804897\ttotal: 15.1s\tremaining: 6.49s\n",
            "699:\tlearn: 0.1804778\ttotal: 15.1s\tremaining: 6.47s\n",
            "700:\tlearn: 0.1804635\ttotal: 15.1s\tremaining: 6.44s\n",
            "701:\tlearn: 0.1804555\ttotal: 15.1s\tremaining: 6.42s\n",
            "702:\tlearn: 0.1804426\ttotal: 15.1s\tremaining: 6.4s\n",
            "703:\tlearn: 0.1804282\ttotal: 15.2s\tremaining: 6.38s\n",
            "704:\tlearn: 0.1804122\ttotal: 15.2s\tremaining: 6.36s\n",
            "705:\tlearn: 0.1804043\ttotal: 15.2s\tremaining: 6.33s\n",
            "706:\tlearn: 0.1803954\ttotal: 15.2s\tremaining: 6.31s\n",
            "707:\tlearn: 0.1803791\ttotal: 15.3s\tremaining: 6.29s\n",
            "708:\tlearn: 0.1803674\ttotal: 15.3s\tremaining: 6.27s\n",
            "709:\tlearn: 0.1803572\ttotal: 15.3s\tremaining: 6.25s\n",
            "710:\tlearn: 0.1803470\ttotal: 15.3s\tremaining: 6.23s\n",
            "711:\tlearn: 0.1803304\ttotal: 15.3s\tremaining: 6.2s\n",
            "712:\tlearn: 0.1803145\ttotal: 15.4s\tremaining: 6.18s\n",
            "713:\tlearn: 0.1803056\ttotal: 15.4s\tremaining: 6.16s\n",
            "714:\tlearn: 0.1802931\ttotal: 15.4s\tremaining: 6.14s\n",
            "715:\tlearn: 0.1802789\ttotal: 15.4s\tremaining: 6.12s\n",
            "716:\tlearn: 0.1802607\ttotal: 15.4s\tremaining: 6.1s\n",
            "717:\tlearn: 0.1802474\ttotal: 15.5s\tremaining: 6.08s\n",
            "718:\tlearn: 0.1802398\ttotal: 15.5s\tremaining: 6.05s\n",
            "719:\tlearn: 0.1802275\ttotal: 15.5s\tremaining: 6.03s\n",
            "720:\tlearn: 0.1802109\ttotal: 15.5s\tremaining: 6.01s\n",
            "721:\tlearn: 0.1801958\ttotal: 15.5s\tremaining: 5.99s\n",
            "722:\tlearn: 0.1801894\ttotal: 15.6s\tremaining: 5.96s\n",
            "723:\tlearn: 0.1801769\ttotal: 15.6s\tremaining: 5.94s\n",
            "724:\tlearn: 0.1801599\ttotal: 15.6s\tremaining: 5.92s\n",
            "725:\tlearn: 0.1801497\ttotal: 15.6s\tremaining: 5.9s\n",
            "726:\tlearn: 0.1801338\ttotal: 15.7s\tremaining: 5.88s\n",
            "727:\tlearn: 0.1801236\ttotal: 15.7s\tremaining: 5.86s\n",
            "728:\tlearn: 0.1801102\ttotal: 15.7s\tremaining: 5.84s\n",
            "729:\tlearn: 0.1801028\ttotal: 15.7s\tremaining: 5.81s\n",
            "730:\tlearn: 0.1800949\ttotal: 15.7s\tremaining: 5.79s\n",
            "731:\tlearn: 0.1800834\ttotal: 15.8s\tremaining: 5.77s\n",
            "732:\tlearn: 0.1800781\ttotal: 15.8s\tremaining: 5.75s\n",
            "733:\tlearn: 0.1800736\ttotal: 15.8s\tremaining: 5.72s\n",
            "734:\tlearn: 0.1800629\ttotal: 15.8s\tremaining: 5.7s\n",
            "735:\tlearn: 0.1800507\ttotal: 15.8s\tremaining: 5.68s\n",
            "736:\tlearn: 0.1800401\ttotal: 15.9s\tremaining: 5.66s\n",
            "737:\tlearn: 0.1800301\ttotal: 15.9s\tremaining: 5.64s\n",
            "738:\tlearn: 0.1800215\ttotal: 15.9s\tremaining: 5.62s\n",
            "739:\tlearn: 0.1800051\ttotal: 15.9s\tremaining: 5.6s\n",
            "740:\tlearn: 0.1799961\ttotal: 16s\tremaining: 5.58s\n",
            "741:\tlearn: 0.1799807\ttotal: 16s\tremaining: 5.55s\n",
            "742:\tlearn: 0.1799689\ttotal: 16s\tremaining: 5.53s\n",
            "743:\tlearn: 0.1799590\ttotal: 16s\tremaining: 5.51s\n",
            "744:\tlearn: 0.1799446\ttotal: 16s\tremaining: 5.49s\n",
            "745:\tlearn: 0.1799356\ttotal: 16.1s\tremaining: 5.46s\n",
            "746:\tlearn: 0.1799221\ttotal: 16.1s\tremaining: 5.45s\n",
            "747:\tlearn: 0.1799147\ttotal: 16.1s\tremaining: 5.42s\n",
            "748:\tlearn: 0.1799082\ttotal: 16.1s\tremaining: 5.4s\n",
            "749:\tlearn: 0.1798985\ttotal: 16.1s\tremaining: 5.38s\n",
            "750:\tlearn: 0.1798930\ttotal: 16.2s\tremaining: 5.36s\n",
            "751:\tlearn: 0.1798824\ttotal: 16.2s\tremaining: 5.34s\n",
            "752:\tlearn: 0.1798707\ttotal: 16.2s\tremaining: 5.32s\n",
            "753:\tlearn: 0.1798599\ttotal: 16.2s\tremaining: 5.29s\n",
            "754:\tlearn: 0.1798517\ttotal: 16.2s\tremaining: 5.27s\n",
            "755:\tlearn: 0.1798442\ttotal: 16.3s\tremaining: 5.25s\n",
            "756:\tlearn: 0.1798365\ttotal: 16.3s\tremaining: 5.23s\n",
            "757:\tlearn: 0.1798204\ttotal: 16.3s\tremaining: 5.21s\n",
            "758:\tlearn: 0.1798163\ttotal: 16.3s\tremaining: 5.18s\n",
            "759:\tlearn: 0.1798007\ttotal: 16.3s\tremaining: 5.16s\n",
            "760:\tlearn: 0.1797794\ttotal: 16.4s\tremaining: 5.14s\n",
            "761:\tlearn: 0.1797684\ttotal: 16.4s\tremaining: 5.12s\n",
            "762:\tlearn: 0.1797601\ttotal: 16.4s\tremaining: 5.1s\n",
            "763:\tlearn: 0.1797535\ttotal: 16.4s\tremaining: 5.07s\n",
            "764:\tlearn: 0.1797452\ttotal: 16.4s\tremaining: 5.05s\n",
            "765:\tlearn: 0.1797339\ttotal: 16.5s\tremaining: 5.03s\n",
            "766:\tlearn: 0.1797209\ttotal: 16.5s\tremaining: 5.01s\n",
            "767:\tlearn: 0.1797120\ttotal: 16.5s\tremaining: 4.99s\n",
            "768:\tlearn: 0.1796989\ttotal: 16.5s\tremaining: 4.97s\n",
            "769:\tlearn: 0.1796932\ttotal: 16.6s\tremaining: 4.95s\n",
            "770:\tlearn: 0.1796862\ttotal: 16.6s\tremaining: 4.92s\n",
            "771:\tlearn: 0.1796728\ttotal: 16.6s\tremaining: 4.9s\n",
            "772:\tlearn: 0.1796696\ttotal: 16.6s\tremaining: 4.88s\n",
            "773:\tlearn: 0.1796571\ttotal: 16.6s\tremaining: 4.86s\n",
            "774:\tlearn: 0.1796489\ttotal: 16.7s\tremaining: 4.83s\n",
            "775:\tlearn: 0.1796464\ttotal: 16.7s\tremaining: 4.81s\n",
            "776:\tlearn: 0.1796353\ttotal: 16.7s\tremaining: 4.79s\n",
            "777:\tlearn: 0.1796179\ttotal: 16.7s\tremaining: 4.77s\n",
            "778:\tlearn: 0.1796068\ttotal: 16.7s\tremaining: 4.75s\n",
            "779:\tlearn: 0.1795977\ttotal: 16.8s\tremaining: 4.72s\n",
            "780:\tlearn: 0.1795840\ttotal: 16.8s\tremaining: 4.7s\n",
            "781:\tlearn: 0.1795710\ttotal: 16.8s\tremaining: 4.68s\n",
            "782:\tlearn: 0.1795594\ttotal: 16.8s\tremaining: 4.66s\n",
            "783:\tlearn: 0.1795487\ttotal: 16.8s\tremaining: 4.64s\n",
            "784:\tlearn: 0.1795388\ttotal: 16.9s\tremaining: 4.62s\n",
            "785:\tlearn: 0.1795258\ttotal: 16.9s\tremaining: 4.6s\n",
            "786:\tlearn: 0.1795157\ttotal: 16.9s\tremaining: 4.58s\n",
            "787:\tlearn: 0.1795002\ttotal: 16.9s\tremaining: 4.56s\n",
            "788:\tlearn: 0.1794827\ttotal: 17s\tremaining: 4.54s\n",
            "789:\tlearn: 0.1794696\ttotal: 17s\tremaining: 4.51s\n",
            "790:\tlearn: 0.1794620\ttotal: 17s\tremaining: 4.49s\n",
            "791:\tlearn: 0.1794519\ttotal: 17s\tremaining: 4.47s\n",
            "792:\tlearn: 0.1794453\ttotal: 17s\tremaining: 4.45s\n",
            "793:\tlearn: 0.1794375\ttotal: 17.1s\tremaining: 4.42s\n",
            "794:\tlearn: 0.1794282\ttotal: 17.1s\tremaining: 4.4s\n",
            "795:\tlearn: 0.1794174\ttotal: 17.1s\tremaining: 4.38s\n",
            "796:\tlearn: 0.1794038\ttotal: 17.1s\tremaining: 4.36s\n",
            "797:\tlearn: 0.1793935\ttotal: 17.1s\tremaining: 4.34s\n",
            "798:\tlearn: 0.1793873\ttotal: 17.2s\tremaining: 4.32s\n",
            "799:\tlearn: 0.1793785\ttotal: 17.2s\tremaining: 4.29s\n",
            "800:\tlearn: 0.1793695\ttotal: 17.2s\tremaining: 4.27s\n",
            "801:\tlearn: 0.1793597\ttotal: 17.2s\tremaining: 4.25s\n",
            "802:\tlearn: 0.1793499\ttotal: 17.2s\tremaining: 4.23s\n",
            "803:\tlearn: 0.1793376\ttotal: 17.3s\tremaining: 4.21s\n",
            "804:\tlearn: 0.1793284\ttotal: 17.3s\tremaining: 4.18s\n",
            "805:\tlearn: 0.1793152\ttotal: 17.3s\tremaining: 4.16s\n",
            "806:\tlearn: 0.1793012\ttotal: 17.3s\tremaining: 4.14s\n",
            "807:\tlearn: 0.1792868\ttotal: 17.3s\tremaining: 4.12s\n",
            "808:\tlearn: 0.1792764\ttotal: 17.4s\tremaining: 4.1s\n",
            "809:\tlearn: 0.1792667\ttotal: 17.4s\tremaining: 4.08s\n",
            "810:\tlearn: 0.1792588\ttotal: 17.4s\tremaining: 4.06s\n",
            "811:\tlearn: 0.1792533\ttotal: 17.4s\tremaining: 4.03s\n",
            "812:\tlearn: 0.1792386\ttotal: 17.4s\tremaining: 4.01s\n",
            "813:\tlearn: 0.1792301\ttotal: 17.5s\tremaining: 3.99s\n",
            "814:\tlearn: 0.1792180\ttotal: 17.5s\tremaining: 3.97s\n",
            "815:\tlearn: 0.1792058\ttotal: 17.5s\tremaining: 3.95s\n",
            "816:\tlearn: 0.1791956\ttotal: 17.5s\tremaining: 3.93s\n",
            "817:\tlearn: 0.1791846\ttotal: 17.6s\tremaining: 3.9s\n",
            "818:\tlearn: 0.1791757\ttotal: 17.6s\tremaining: 3.88s\n",
            "819:\tlearn: 0.1791641\ttotal: 17.6s\tremaining: 3.86s\n",
            "820:\tlearn: 0.1791553\ttotal: 17.6s\tremaining: 3.84s\n",
            "821:\tlearn: 0.1791441\ttotal: 17.6s\tremaining: 3.82s\n",
            "822:\tlearn: 0.1791308\ttotal: 17.7s\tremaining: 3.8s\n",
            "823:\tlearn: 0.1791218\ttotal: 17.7s\tremaining: 3.77s\n",
            "824:\tlearn: 0.1791130\ttotal: 17.7s\tremaining: 3.75s\n",
            "825:\tlearn: 0.1791043\ttotal: 17.7s\tremaining: 3.73s\n",
            "826:\tlearn: 0.1790939\ttotal: 17.7s\tremaining: 3.71s\n",
            "827:\tlearn: 0.1790854\ttotal: 17.8s\tremaining: 3.69s\n",
            "828:\tlearn: 0.1790721\ttotal: 17.8s\tremaining: 3.67s\n",
            "829:\tlearn: 0.1790605\ttotal: 17.8s\tremaining: 3.65s\n",
            "830:\tlearn: 0.1790516\ttotal: 17.8s\tremaining: 3.62s\n",
            "831:\tlearn: 0.1790407\ttotal: 17.8s\tremaining: 3.6s\n",
            "832:\tlearn: 0.1790319\ttotal: 17.9s\tremaining: 3.58s\n",
            "833:\tlearn: 0.1790237\ttotal: 17.9s\tremaining: 3.56s\n",
            "834:\tlearn: 0.1790125\ttotal: 17.9s\tremaining: 3.54s\n",
            "835:\tlearn: 0.1790000\ttotal: 17.9s\tremaining: 3.52s\n",
            "836:\tlearn: 0.1789852\ttotal: 18s\tremaining: 3.5s\n",
            "837:\tlearn: 0.1789730\ttotal: 18s\tremaining: 3.48s\n",
            "838:\tlearn: 0.1789621\ttotal: 18s\tremaining: 3.46s\n",
            "839:\tlearn: 0.1789522\ttotal: 18s\tremaining: 3.44s\n",
            "840:\tlearn: 0.1789342\ttotal: 18.1s\tremaining: 3.41s\n",
            "841:\tlearn: 0.1789292\ttotal: 18.1s\tremaining: 3.39s\n",
            "842:\tlearn: 0.1789192\ttotal: 18.1s\tremaining: 3.37s\n",
            "843:\tlearn: 0.1789103\ttotal: 18.1s\tremaining: 3.35s\n",
            "844:\tlearn: 0.1788945\ttotal: 18.1s\tremaining: 3.33s\n",
            "845:\tlearn: 0.1788792\ttotal: 18.2s\tremaining: 3.31s\n",
            "846:\tlearn: 0.1788716\ttotal: 18.2s\tremaining: 3.28s\n",
            "847:\tlearn: 0.1788650\ttotal: 18.2s\tremaining: 3.26s\n",
            "848:\tlearn: 0.1788582\ttotal: 18.2s\tremaining: 3.24s\n",
            "849:\tlearn: 0.1788491\ttotal: 18.2s\tremaining: 3.22s\n",
            "850:\tlearn: 0.1788402\ttotal: 18.3s\tremaining: 3.19s\n",
            "851:\tlearn: 0.1788308\ttotal: 18.3s\tremaining: 3.17s\n",
            "852:\tlearn: 0.1788162\ttotal: 18.3s\tremaining: 3.15s\n",
            "853:\tlearn: 0.1788085\ttotal: 18.3s\tremaining: 3.13s\n",
            "854:\tlearn: 0.1787906\ttotal: 18.3s\tremaining: 3.11s\n",
            "855:\tlearn: 0.1787832\ttotal: 18.3s\tremaining: 3.09s\n",
            "856:\tlearn: 0.1787732\ttotal: 18.4s\tremaining: 3.06s\n",
            "857:\tlearn: 0.1787656\ttotal: 18.4s\tremaining: 3.04s\n",
            "858:\tlearn: 0.1787550\ttotal: 18.4s\tremaining: 3.02s\n",
            "859:\tlearn: 0.1787459\ttotal: 18.4s\tremaining: 3s\n",
            "860:\tlearn: 0.1787362\ttotal: 18.4s\tremaining: 2.98s\n",
            "861:\tlearn: 0.1787270\ttotal: 18.5s\tremaining: 2.96s\n",
            "862:\tlearn: 0.1787109\ttotal: 18.5s\tremaining: 2.93s\n",
            "863:\tlearn: 0.1786989\ttotal: 18.5s\tremaining: 2.91s\n",
            "864:\tlearn: 0.1786861\ttotal: 18.5s\tremaining: 2.89s\n",
            "865:\tlearn: 0.1786760\ttotal: 18.5s\tremaining: 2.87s\n",
            "866:\tlearn: 0.1786656\ttotal: 18.6s\tremaining: 2.85s\n",
            "867:\tlearn: 0.1786571\ttotal: 18.6s\tremaining: 2.83s\n",
            "868:\tlearn: 0.1786502\ttotal: 18.6s\tremaining: 2.81s\n",
            "869:\tlearn: 0.1786414\ttotal: 18.6s\tremaining: 2.78s\n",
            "870:\tlearn: 0.1786331\ttotal: 18.6s\tremaining: 2.76s\n",
            "871:\tlearn: 0.1786248\ttotal: 18.7s\tremaining: 2.74s\n",
            "872:\tlearn: 0.1786202\ttotal: 18.7s\tremaining: 2.72s\n",
            "873:\tlearn: 0.1786063\ttotal: 18.7s\tremaining: 2.69s\n",
            "874:\tlearn: 0.1785975\ttotal: 18.7s\tremaining: 2.67s\n",
            "875:\tlearn: 0.1785873\ttotal: 18.7s\tremaining: 2.65s\n",
            "876:\tlearn: 0.1785761\ttotal: 18.8s\tremaining: 2.63s\n",
            "877:\tlearn: 0.1785633\ttotal: 18.8s\tremaining: 2.61s\n",
            "878:\tlearn: 0.1785543\ttotal: 18.8s\tremaining: 2.59s\n",
            "879:\tlearn: 0.1785451\ttotal: 18.8s\tremaining: 2.57s\n",
            "880:\tlearn: 0.1785387\ttotal: 18.8s\tremaining: 2.54s\n",
            "881:\tlearn: 0.1785233\ttotal: 18.9s\tremaining: 2.52s\n",
            "882:\tlearn: 0.1785135\ttotal: 18.9s\tremaining: 2.5s\n",
            "883:\tlearn: 0.1785038\ttotal: 18.9s\tremaining: 2.48s\n",
            "884:\tlearn: 0.1784995\ttotal: 18.9s\tremaining: 2.46s\n",
            "885:\tlearn: 0.1784914\ttotal: 18.9s\tremaining: 2.44s\n",
            "886:\tlearn: 0.1784815\ttotal: 19s\tremaining: 2.42s\n",
            "887:\tlearn: 0.1784720\ttotal: 19s\tremaining: 2.39s\n",
            "888:\tlearn: 0.1784639\ttotal: 19s\tremaining: 2.37s\n",
            "889:\tlearn: 0.1784554\ttotal: 19s\tremaining: 2.35s\n",
            "890:\tlearn: 0.1784472\ttotal: 19s\tremaining: 2.33s\n",
            "891:\tlearn: 0.1784396\ttotal: 19.1s\tremaining: 2.31s\n",
            "892:\tlearn: 0.1784287\ttotal: 19.1s\tremaining: 2.29s\n",
            "893:\tlearn: 0.1784175\ttotal: 19.1s\tremaining: 2.26s\n",
            "894:\tlearn: 0.1784055\ttotal: 19.1s\tremaining: 2.24s\n",
            "895:\tlearn: 0.1783933\ttotal: 19.1s\tremaining: 2.22s\n",
            "896:\tlearn: 0.1783863\ttotal: 19.2s\tremaining: 2.2s\n",
            "897:\tlearn: 0.1783745\ttotal: 19.2s\tremaining: 2.18s\n",
            "898:\tlearn: 0.1783645\ttotal: 19.2s\tremaining: 2.16s\n",
            "899:\tlearn: 0.1783504\ttotal: 19.2s\tremaining: 2.14s\n",
            "900:\tlearn: 0.1783355\ttotal: 19.3s\tremaining: 2.12s\n",
            "901:\tlearn: 0.1783169\ttotal: 19.3s\tremaining: 2.09s\n",
            "902:\tlearn: 0.1783099\ttotal: 19.3s\tremaining: 2.07s\n",
            "903:\tlearn: 0.1783017\ttotal: 19.3s\tremaining: 2.05s\n",
            "904:\tlearn: 0.1782966\ttotal: 19.3s\tremaining: 2.03s\n",
            "905:\tlearn: 0.1782867\ttotal: 19.4s\tremaining: 2.01s\n",
            "906:\tlearn: 0.1782752\ttotal: 19.4s\tremaining: 1.99s\n",
            "907:\tlearn: 0.1782653\ttotal: 19.4s\tremaining: 1.97s\n",
            "908:\tlearn: 0.1782520\ttotal: 19.4s\tremaining: 1.94s\n",
            "909:\tlearn: 0.1782418\ttotal: 19.4s\tremaining: 1.92s\n",
            "910:\tlearn: 0.1782365\ttotal: 19.5s\tremaining: 1.9s\n",
            "911:\tlearn: 0.1782277\ttotal: 19.5s\tremaining: 1.88s\n",
            "912:\tlearn: 0.1782189\ttotal: 19.5s\tremaining: 1.86s\n",
            "913:\tlearn: 0.1782116\ttotal: 19.5s\tremaining: 1.84s\n",
            "914:\tlearn: 0.1782020\ttotal: 19.5s\tremaining: 1.81s\n",
            "915:\tlearn: 0.1781886\ttotal: 19.6s\tremaining: 1.79s\n",
            "916:\tlearn: 0.1781776\ttotal: 19.6s\tremaining: 1.77s\n",
            "917:\tlearn: 0.1781694\ttotal: 19.6s\tremaining: 1.75s\n",
            "918:\tlearn: 0.1781637\ttotal: 19.6s\tremaining: 1.73s\n",
            "919:\tlearn: 0.1781525\ttotal: 19.6s\tremaining: 1.71s\n",
            "920:\tlearn: 0.1781426\ttotal: 19.7s\tremaining: 1.69s\n",
            "921:\tlearn: 0.1781326\ttotal: 19.7s\tremaining: 1.67s\n",
            "922:\tlearn: 0.1781274\ttotal: 19.7s\tremaining: 1.64s\n",
            "923:\tlearn: 0.1781225\ttotal: 19.7s\tremaining: 1.62s\n",
            "924:\tlearn: 0.1781115\ttotal: 19.7s\tremaining: 1.6s\n",
            "925:\tlearn: 0.1781064\ttotal: 19.8s\tremaining: 1.58s\n",
            "926:\tlearn: 0.1780933\ttotal: 19.8s\tremaining: 1.56s\n",
            "927:\tlearn: 0.1780856\ttotal: 19.8s\tremaining: 1.54s\n",
            "928:\tlearn: 0.1780760\ttotal: 19.8s\tremaining: 1.51s\n",
            "929:\tlearn: 0.1780686\ttotal: 19.8s\tremaining: 1.49s\n",
            "930:\tlearn: 0.1780565\ttotal: 19.9s\tremaining: 1.47s\n",
            "931:\tlearn: 0.1780467\ttotal: 19.9s\tremaining: 1.45s\n",
            "932:\tlearn: 0.1780414\ttotal: 19.9s\tremaining: 1.43s\n",
            "933:\tlearn: 0.1780271\ttotal: 19.9s\tremaining: 1.41s\n",
            "934:\tlearn: 0.1780204\ttotal: 20s\tremaining: 1.39s\n",
            "935:\tlearn: 0.1780087\ttotal: 20s\tremaining: 1.37s\n",
            "936:\tlearn: 0.1779977\ttotal: 20s\tremaining: 1.34s\n",
            "937:\tlearn: 0.1779869\ttotal: 20s\tremaining: 1.32s\n",
            "938:\tlearn: 0.1779766\ttotal: 20s\tremaining: 1.3s\n",
            "939:\tlearn: 0.1779668\ttotal: 20.1s\tremaining: 1.28s\n",
            "940:\tlearn: 0.1779591\ttotal: 20.1s\tremaining: 1.26s\n",
            "941:\tlearn: 0.1779479\ttotal: 20.1s\tremaining: 1.24s\n",
            "942:\tlearn: 0.1779420\ttotal: 20.1s\tremaining: 1.22s\n",
            "943:\tlearn: 0.1779319\ttotal: 20.1s\tremaining: 1.2s\n",
            "944:\tlearn: 0.1779242\ttotal: 20.2s\tremaining: 1.17s\n",
            "945:\tlearn: 0.1779081\ttotal: 20.2s\tremaining: 1.15s\n",
            "946:\tlearn: 0.1778988\ttotal: 20.2s\tremaining: 1.13s\n",
            "947:\tlearn: 0.1778889\ttotal: 20.2s\tremaining: 1.11s\n",
            "948:\tlearn: 0.1778820\ttotal: 20.3s\tremaining: 1.09s\n",
            "949:\tlearn: 0.1778764\ttotal: 20.3s\tremaining: 1.07s\n",
            "950:\tlearn: 0.1778666\ttotal: 20.3s\tremaining: 1.04s\n",
            "951:\tlearn: 0.1778551\ttotal: 20.3s\tremaining: 1.02s\n",
            "952:\tlearn: 0.1778438\ttotal: 20.3s\tremaining: 1s\n",
            "953:\tlearn: 0.1778319\ttotal: 20.4s\tremaining: 982ms\n",
            "954:\tlearn: 0.1778173\ttotal: 20.4s\tremaining: 960ms\n",
            "955:\tlearn: 0.1778061\ttotal: 20.4s\tremaining: 939ms\n",
            "956:\tlearn: 0.1777986\ttotal: 20.4s\tremaining: 918ms\n",
            "957:\tlearn: 0.1777892\ttotal: 20.4s\tremaining: 896ms\n",
            "958:\tlearn: 0.1777781\ttotal: 20.5s\tremaining: 875ms\n",
            "959:\tlearn: 0.1777621\ttotal: 20.5s\tremaining: 853ms\n",
            "960:\tlearn: 0.1777564\ttotal: 20.5s\tremaining: 832ms\n",
            "961:\tlearn: 0.1777438\ttotal: 20.5s\tremaining: 811ms\n",
            "962:\tlearn: 0.1777321\ttotal: 20.5s\tremaining: 790ms\n",
            "963:\tlearn: 0.1777204\ttotal: 20.6s\tremaining: 768ms\n",
            "964:\tlearn: 0.1777062\ttotal: 20.6s\tremaining: 747ms\n",
            "965:\tlearn: 0.1776993\ttotal: 20.6s\tremaining: 725ms\n",
            "966:\tlearn: 0.1776914\ttotal: 20.6s\tremaining: 704ms\n",
            "967:\tlearn: 0.1776854\ttotal: 20.6s\tremaining: 683ms\n",
            "968:\tlearn: 0.1776747\ttotal: 20.7s\tremaining: 661ms\n",
            "969:\tlearn: 0.1776638\ttotal: 20.7s\tremaining: 640ms\n",
            "970:\tlearn: 0.1776565\ttotal: 20.7s\tremaining: 619ms\n",
            "971:\tlearn: 0.1776472\ttotal: 20.7s\tremaining: 597ms\n",
            "972:\tlearn: 0.1776352\ttotal: 20.8s\tremaining: 576ms\n",
            "973:\tlearn: 0.1776308\ttotal: 20.8s\tremaining: 555ms\n",
            "974:\tlearn: 0.1776215\ttotal: 20.8s\tremaining: 533ms\n",
            "975:\tlearn: 0.1776023\ttotal: 20.8s\tremaining: 512ms\n",
            "976:\tlearn: 0.1775907\ttotal: 20.8s\tremaining: 491ms\n",
            "977:\tlearn: 0.1775771\ttotal: 20.9s\tremaining: 469ms\n",
            "978:\tlearn: 0.1775650\ttotal: 20.9s\tremaining: 448ms\n",
            "979:\tlearn: 0.1775563\ttotal: 20.9s\tremaining: 427ms\n",
            "980:\tlearn: 0.1775503\ttotal: 20.9s\tremaining: 406ms\n",
            "981:\tlearn: 0.1775456\ttotal: 21s\tremaining: 384ms\n",
            "982:\tlearn: 0.1775314\ttotal: 21s\tremaining: 363ms\n",
            "983:\tlearn: 0.1775184\ttotal: 21s\tremaining: 341ms\n",
            "984:\tlearn: 0.1775068\ttotal: 21s\tremaining: 320ms\n",
            "985:\tlearn: 0.1774990\ttotal: 21.1s\tremaining: 299ms\n",
            "986:\tlearn: 0.1774909\ttotal: 21.1s\tremaining: 278ms\n",
            "987:\tlearn: 0.1774869\ttotal: 21.1s\tremaining: 256ms\n",
            "988:\tlearn: 0.1774770\ttotal: 21.1s\tremaining: 235ms\n",
            "989:\tlearn: 0.1774676\ttotal: 21.1s\tremaining: 213ms\n",
            "990:\tlearn: 0.1774578\ttotal: 21.2s\tremaining: 192ms\n",
            "991:\tlearn: 0.1774469\ttotal: 21.2s\tremaining: 171ms\n",
            "992:\tlearn: 0.1774425\ttotal: 21.2s\tremaining: 149ms\n",
            "993:\tlearn: 0.1774361\ttotal: 21.2s\tremaining: 128ms\n",
            "994:\tlearn: 0.1774290\ttotal: 21.2s\tremaining: 107ms\n",
            "995:\tlearn: 0.1774215\ttotal: 21.3s\tremaining: 85.4ms\n",
            "996:\tlearn: 0.1774126\ttotal: 21.3s\tremaining: 64ms\n",
            "997:\tlearn: 0.1774033\ttotal: 21.3s\tremaining: 42.7ms\n",
            "998:\tlearn: 0.1773976\ttotal: 21.3s\tremaining: 21.3ms\n",
            "999:\tlearn: 0.1773918\ttotal: 21.3s\tremaining: 0us\n"
          ]
        },
        {
          "output_type": "execute_result",
          "data": {
            "text/plain": [
              "<catboost.core.CatBoostRegressor at 0x7ff949c5fb10>"
            ]
          },
          "metadata": {},
          "execution_count": 26
        }
      ],
      "source": [
        "!pip install catboost\n",
        "from catboost import CatBoostRegressor\n",
        "cat = CatBoostRegressor(random_state=0)\n",
        "cat.fit(X_train, Y_train)"
      ]
    },
    {
      "cell_type": "code",
      "execution_count": null,
      "metadata": {
        "id": "HT3uMhy16mLg"
      },
      "outputs": [],
      "source": [
        "y_pred=cat.predict(X_test)"
      ]
    },
    {
      "cell_type": "code",
      "execution_count": null,
      "metadata": {
        "colab": {
          "base_uri": "https://localhost:8080/"
        },
        "id": "OHCIjODs6y-v",
        "outputId": "d36088e6-2d6f-4e26-a8dd-1b937587f1c9"
      },
      "outputs": [
        {
          "output_type": "execute_result",
          "data": {
            "text/plain": [
              "(29092,)"
            ]
          },
          "metadata": {},
          "execution_count": 28
        }
      ],
      "source": [
        "y_pred.shape"
      ]
    },
    {
      "cell_type": "code",
      "execution_count": null,
      "metadata": {
        "id": "vBfzztyB6052"
      },
      "outputs": [],
      "source": [
        "y_pred=y_pred.reshape(29092,1)"
      ]
    },
    {
      "cell_type": "code",
      "source": [
        "from sklearn.metrics import r2_score\n",
        "r2 = r2_score(Y_test, y_pred)\n",
        "print(r2)"
      ],
      "metadata": {
        "id": "VjmDQ2AojmCL",
        "colab": {
          "base_uri": "https://localhost:8080/"
        },
        "outputId": "cf0a5c8c-e4b8-4451-f95d-fd9961b76889"
      },
      "execution_count": null,
      "outputs": [
        {
          "output_type": "stream",
          "name": "stdout",
          "text": [
            "0.9436401902196964\n"
          ]
        }
      ]
    },
    {
      "cell_type": "code",
      "execution_count": null,
      "metadata": {
        "colab": {
          "base_uri": "https://localhost:8080/"
        },
        "id": "J_kjsACw7AfJ",
        "outputId": "7a478e01-c75c-499e-cb2b-2e353d0af22c"
      },
      "outputs": [
        {
          "output_type": "stream",
          "name": "stdout",
          "text": [
            "Root Mean Squared Error: 0.18641252747005507\n"
          ]
        }
      ],
      "source": [
        "RMSE_cat=np.sqrt(metrics.mean_squared_error(Y_test, y_pred))\n",
        "print('Root Mean Squared Error:', RMSE_cat)"
      ]
    },
    {
      "cell_type": "markdown",
      "source": [
        "# **Random Forest Regressor**"
      ],
      "metadata": {
        "id": "nB1veZ1Xii1s"
      }
    },
    {
      "cell_type": "code",
      "execution_count": null,
      "metadata": {
        "id": "kgmFsC8_8Qux"
      },
      "outputs": [],
      "source": [
        "from sklearn.ensemble import RandomForestRegressor\n",
        "rf=RandomForestRegressor(n_estimators=100,random_state=0)\n",
        "rf.fit(X_train,Y_train)\n",
        "y_pred1 = rf.predict(X_test)"
      ]
    },
    {
      "cell_type": "code",
      "execution_count": null,
      "metadata": {
        "colab": {
          "base_uri": "https://localhost:8080/"
        },
        "id": "3ieJqCUA8pJH",
        "outputId": "b585faf5-26da-447c-da3a-04546557cffa"
      },
      "outputs": [
        {
          "output_type": "execute_result",
          "data": {
            "text/plain": [
              "(29092,)"
            ]
          },
          "metadata": {},
          "execution_count": 33
        }
      ],
      "source": [
        "y_pred1.shape"
      ]
    },
    {
      "cell_type": "code",
      "execution_count": null,
      "metadata": {
        "id": "tJ7Hg5SK8vgQ"
      },
      "outputs": [],
      "source": [
        "y_pred1 = y_pred1.reshape((29092, 1))"
      ]
    },
    {
      "cell_type": "code",
      "source": [
        "r2 = r2_score(Y_test, y_pred1)\n",
        "print(r2)"
      ],
      "metadata": {
        "colab": {
          "base_uri": "https://localhost:8080/"
        },
        "id": "q7hlEkb1kYaM",
        "outputId": "03319439-8fbc-4774-eeed-63927896d1ab"
      },
      "execution_count": null,
      "outputs": [
        {
          "output_type": "stream",
          "name": "stdout",
          "text": [
            "0.941223220812546\n"
          ]
        }
      ]
    },
    {
      "cell_type": "code",
      "execution_count": null,
      "metadata": {
        "colab": {
          "base_uri": "https://localhost:8080/"
        },
        "id": "1kRRYc1X8jwv",
        "outputId": "7b03a3bb-3ad1-4507-a67f-9cd39ad49910"
      },
      "outputs": [
        {
          "output_type": "stream",
          "name": "stdout",
          "text": [
            "Root Mean Squared Error: 0.1903676845678189\n"
          ]
        }
      ],
      "source": [
        "RMSE_rf=np.sqrt(metrics.mean_squared_error(Y_test, y_pred1))\n",
        "print('Root Mean Squared Error:', RMSE_rf)"
      ]
    },
    {
      "cell_type": "markdown",
      "source": [
        "# **XGBoost**"
      ],
      "metadata": {
        "id": "JPt4YmLrinZD"
      }
    },
    {
      "cell_type": "code",
      "execution_count": null,
      "metadata": {
        "colab": {
          "base_uri": "https://localhost:8080/"
        },
        "id": "1lPrk40W7YBp",
        "outputId": "7bcdb434-f784-4122-804a-3f7bc6bbd75c"
      },
      "outputs": [
        {
          "output_type": "stream",
          "name": "stdout",
          "text": [
            "[04:09:07] WARNING: /workspace/src/objective/regression_obj.cu:152: reg:linear is now deprecated in favor of reg:squarederror.\n"
          ]
        }
      ],
      "source": [
        "from xgboost import XGBRegressor\n",
        "xgb = XGBRegressor()\n",
        "xgb.fit(X_train, Y_train)\n",
        "y_pred3 = xgb.predict(X_test)"
      ]
    },
    {
      "cell_type": "code",
      "execution_count": null,
      "metadata": {
        "colab": {
          "base_uri": "https://localhost:8080/"
        },
        "id": "VbpPOrbF7kg_",
        "outputId": "0162096f-1eac-4653-b85c-579f0a61a65e"
      },
      "outputs": [
        {
          "output_type": "execute_result",
          "data": {
            "text/plain": [
              "(29092,)"
            ]
          },
          "metadata": {},
          "execution_count": 38
        }
      ],
      "source": [
        "y_pred3.shape"
      ]
    },
    {
      "cell_type": "code",
      "execution_count": null,
      "metadata": {
        "colab": {
          "base_uri": "https://localhost:8080/"
        },
        "id": "z66YG5R49wmm",
        "outputId": "83305d1e-49c8-4736-cd00-dbadff34359d"
      },
      "outputs": [
        {
          "output_type": "execute_result",
          "data": {
            "text/plain": [
              "(29092,)"
            ]
          },
          "metadata": {},
          "execution_count": 39
        }
      ],
      "source": [
        "y_pred3.shape"
      ]
    },
    {
      "cell_type": "code",
      "execution_count": null,
      "metadata": {
        "id": "O7HCyfin7r0P"
      },
      "outputs": [],
      "source": [
        "y_pred3=y_pred3.reshape((29092,1))"
      ]
    },
    {
      "cell_type": "code",
      "source": [
        "r2 = r2_score(Y_test, y_pred3)\n",
        "print(r2)"
      ],
      "metadata": {
        "colab": {
          "base_uri": "https://localhost:8080/"
        },
        "id": "_qCJpxxkkbTd",
        "outputId": "a484b2c6-d1b4-4160-8375-7c3899278ca4"
      },
      "execution_count": null,
      "outputs": [
        {
          "output_type": "stream",
          "name": "stdout",
          "text": [
            "0.9421680093316921\n"
          ]
        }
      ]
    },
    {
      "cell_type": "code",
      "execution_count": null,
      "metadata": {
        "colab": {
          "base_uri": "https://localhost:8080/"
        },
        "id": "hRfNW91R7-dw",
        "outputId": "6f527317-59fb-4bca-927a-babb2c65be81"
      },
      "outputs": [
        {
          "output_type": "stream",
          "name": "stdout",
          "text": [
            "Root Mean Squared Error: 0.18883148406914452\n"
          ]
        }
      ],
      "source": [
        "RMSE_xgb=np.sqrt(metrics.mean_squared_error(Y_test, y_pred3))\n",
        "print('Root Mean Squared Error:', RMSE_xgb)"
      ]
    },
    {
      "cell_type": "markdown",
      "source": [
        "# **Decision Tree**"
      ],
      "metadata": {
        "id": "OvLBuwtUipIb"
      }
    },
    {
      "cell_type": "code",
      "execution_count": null,
      "metadata": {
        "id": "S5_l2g_V9mpe"
      },
      "outputs": [],
      "source": [
        "from sklearn.tree import DecisionTreeRegressor\n",
        "dt = DecisionTreeRegressor()\n",
        "dt.fit(X_train,Y_train)\n",
        "y_pred4=dt.predict(X_test)"
      ]
    },
    {
      "cell_type": "code",
      "execution_count": null,
      "metadata": {
        "id": "KTSpa6Sb9yVP"
      },
      "outputs": [],
      "source": [
        "y_pred4=y_pred4.reshape((29092,1))\n"
      ]
    },
    {
      "cell_type": "code",
      "source": [
        "r2 = r2_score(Y_test, y_pred4)\n",
        "print(r2)"
      ],
      "metadata": {
        "colab": {
          "base_uri": "https://localhost:8080/"
        },
        "id": "mHSKEszglZlU",
        "outputId": "c4b5b20f-a5b6-4b31-803d-970e7934052d"
      },
      "execution_count": null,
      "outputs": [
        {
          "output_type": "stream",
          "name": "stdout",
          "text": [
            "0.8752574204910077\n"
          ]
        }
      ]
    },
    {
      "cell_type": "code",
      "execution_count": null,
      "metadata": {
        "colab": {
          "base_uri": "https://localhost:8080/"
        },
        "id": "w5JnZmRQ9-se",
        "outputId": "4a9297a7-7ad6-42c2-a967-9a32e5a3bdb6"
      },
      "outputs": [
        {
          "output_type": "stream",
          "name": "stdout",
          "text": [
            "Root Mean Squared Error: 0.27733053902300053\n"
          ]
        }
      ],
      "source": [
        "RMSE_dt=np.sqrt(metrics.mean_squared_error(Y_test, y_pred4))\n",
        "print('Root Mean Squared Error:', RMSE_dt)"
      ]
    },
    {
      "cell_type": "markdown",
      "source": [
        "# Evaluation"
      ],
      "metadata": {
        "id": "WVolD1KMPL4l"
      }
    },
    {
      "cell_type": "markdown",
      "metadata": {
        "id": "vlmil8gO_yfp"
      },
      "source": [
        "We have taken four different regression models and have found their corresponding RMSE values:\n",
        "\n",
        "----RMSE of CatBoost: 0.186\n",
        "\n",
        "----RMSE of Random Forest: 0.190 \n",
        "\n",
        "----RMSE of XGBoost: 0.1888\n",
        "\n",
        "----RMSE of DecisionTree: 0.278\n",
        "\n",
        "**CatBoost has the lowest RMSE, which tells us that it’s able to fit the dataset the best out of the four potential models.**\n",
        "\n",
        "\n",
        "\n",
        "\n",
        "\n",
        "\n"
      ]
    },
    {
      "cell_type": "code",
      "source": [
        "x=['CatBoost','Random Forest','XGBoost','DecisionTree']\n",
        "y=[RMSE_cat,RMSE_rf,RMSE_xgb,RMSE_dt]\n",
        "plt.bar(x,y)\n",
        "plt.xlabel('Models')\n",
        "plt.ylabel('RMSE Values')\n",
        "plt.title('Comparison of models on RMSE')\n",
        "\n",
        "\n",
        "# function to add value labels\n",
        "def addlabels(x,y):\n",
        "    for i in range(len(x)):\n",
        "        plt.text(i,    y[i],\"{:.4f}\".format(y[i]), ha = 'center')\n",
        "addlabels(x,y)\n",
        "plt.show()"
      ],
      "metadata": {
        "colab": {
          "base_uri": "https://localhost:8080/"
        },
        "id": "_OKvhvzFBkVu",
        "outputId": "14b9e248-0942-43ee-f23a-fab9d668a459"
      },
      "execution_count": null,
      "outputs": [
        {
          "output_type": "display_data",
          "data": {
            "text/plain": [
              "<Figure size 432x288 with 1 Axes>"
            ],
            "image/png": "[encoded data removed]"
          },
          "metadata": {
            "needs_background": "light"
          }
        }
      ]
    },
    {
      "cell_type": "markdown",
      "source": [
        "# Hyper Parameter tuning for CatBoost"
      ],
      "metadata": {
        "id": "xjQ7ZR8FQ_jQ"
      }
    },
    {
      "cell_type": "code",
      "source": [
        "parameters={'iterations':5000,\n",
        "        'learning_rate':0.01,\n",
        "        'depth':10,\n",
        "        'loss_function':'RMSE',\n",
        "        'eval_metric':'RMSE',\n",
        "        'l2_leaf_reg': 0.3,\n",
        "        'random_seed':55,\n",
        "        'metric_period':50, #calculate metrics once per 50 iterations\n",
        "        'od_type':\"Iter\",   #overfit detector\n",
        "        'od_wait':20,       #most recent best iteration to wait before stopping\n",
        "        'verbose':True,\n",
        "        'use_best_model':True}\n",
        "cat_tuned= CatBoostRegressor(**parameters)\n",
        "cat_tuned.fit(X_train, Y_train,eval_set=(X_test,Y_test),use_best_model=True,plot=True)"
      ],
      "metadata": {
        "colab": {
          "base_uri": "https://localhost:8080/",
          "height": 922,
          "referenced_widgets": [
            "c5b6f95ab49147809b0d7edd3c2bda14"
          ]
        },
        "id": "ZEDv7n1FpjUJ",
        "outputId": "35cb5922-3fbc-40c9-87fa-e355d3dcd22d"
      },
      "execution_count": null,
      "outputs": [
        {
          "output_type": "display_data",
          "data": {
            "text/plain": [
              "MetricVisualizer(layout=Layout(align_self='stretch', height='500px'))"
            ],
            "application/vnd.jupyter.widget-view+json": {
              "version_major": 2,
              "version_minor": 0,
              "model_id": "c5b6f95ab49147809b0d7edd3c2bda14"
            }
          },
          "metadata": {}
        },
        {
          "output_type": "stream",
          "name": "stderr",
          "text": [
            "Warning: Overfitting detector is active, thus evaluation metric is calculated on every iteration. 'metric_period' is ignored for evaluation metric.\n"
          ]
        },
        {
          "output_type": "stream",
          "name": "stdout",
          "text": [
            "0:\tlearn: 0.7802980\ttest: 0.7779055\tbest: 0.7779055 (0)\ttotal: 233ms\tremaining: 19m 25s\n",
            "50:\tlearn: 0.4976049\ttest: 0.4962063\tbest: 0.4962063 (50)\ttotal: 7.32s\tremaining: 11m 50s\n",
            "100:\tlearn: 0.3387410\ttest: 0.3377672\tbest: 0.3377672 (100)\ttotal: 14.1s\tremaining: 11m 23s\n",
            "150:\tlearn: 0.2561635\ttest: 0.2553461\tbest: 0.2553461 (150)\ttotal: 20.3s\tremaining: 10m 52s\n",
            "200:\tlearn: 0.2174235\ttest: 0.2167610\tbest: 0.2167610 (200)\ttotal: 23.8s\tremaining: 9m 27s\n",
            "250:\tlearn: 0.2006599\ttest: 0.2002397\tbest: 0.2002397 (250)\ttotal: 26.8s\tremaining: 8m 27s\n",
            "300:\tlearn: 0.1934453\ttest: 0.1934089\tbest: 0.1934089 (300)\ttotal: 30.2s\tremaining: 7m 51s\n",
            "350:\tlearn: 0.1901712\ttest: 0.1905612\tbest: 0.1905612 (350)\ttotal: 33.5s\tremaining: 7m 23s\n",
            "400:\tlearn: 0.1883590\ttest: 0.1892614\tbest: 0.1892614 (400)\ttotal: 36.8s\tremaining: 7m 1s\n",
            "450:\tlearn: 0.1871046\ttest: 0.1886019\tbest: 0.1886019 (450)\ttotal: 40s\tremaining: 6m 43s\n",
            "500:\tlearn: 0.1861339\ttest: 0.1881992\tbest: 0.1881992 (500)\ttotal: 43.4s\tremaining: 6m 29s\n",
            "550:\tlearn: 0.1852270\ttest: 0.1879224\tbest: 0.1879224 (550)\ttotal: 46.9s\tremaining: 6m 19s\n",
            "600:\tlearn: 0.1844638\ttest: 0.1877277\tbest: 0.1877277 (600)\ttotal: 50.4s\tremaining: 6m 8s\n",
            "650:\tlearn: 0.1837356\ttest: 0.1875707\tbest: 0.1875707 (650)\ttotal: 53.9s\tremaining: 6m\n",
            "700:\tlearn: 0.1831110\ttest: 0.1874511\tbest: 0.1874511 (700)\ttotal: 57.4s\tremaining: 5m 52s\n",
            "750:\tlearn: 0.1825227\ttest: 0.1873521\tbest: 0.1873521 (750)\ttotal: 1m\tremaining: 5m 44s\n",
            "800:\tlearn: 0.1819205\ttest: 0.1872529\tbest: 0.1872529 (800)\ttotal: 1m 4s\tremaining: 5m 37s\n",
            "850:\tlearn: 0.1812928\ttest: 0.1871574\tbest: 0.1871574 (850)\ttotal: 1m 8s\tremaining: 5m 31s\n",
            "900:\tlearn: 0.1807045\ttest: 0.1870888\tbest: 0.1870888 (900)\ttotal: 1m 11s\tremaining: 5m 26s\n",
            "950:\tlearn: 0.1801539\ttest: 0.1870132\tbest: 0.1870132 (950)\ttotal: 1m 15s\tremaining: 5m 20s\n",
            "1000:\tlearn: 0.1795826\ttest: 0.1869453\tbest: 0.1869453 (1000)\ttotal: 1m 18s\tremaining: 5m 14s\n",
            "1050:\tlearn: 0.1790464\ttest: 0.1868734\tbest: 0.1868734 (1050)\ttotal: 1m 22s\tremaining: 5m 9s\n",
            "1100:\tlearn: 0.1785250\ttest: 0.1868298\tbest: 0.1868298 (1100)\ttotal: 1m 25s\tremaining: 5m 3s\n",
            "1150:\tlearn: 0.1779815\ttest: 0.1867713\tbest: 0.1867713 (1150)\ttotal: 1m 29s\tremaining: 4m 58s\n",
            "1200:\tlearn: 0.1775184\ttest: 0.1867167\tbest: 0.1867167 (1200)\ttotal: 1m 32s\tremaining: 4m 53s\n",
            "1250:\tlearn: 0.1770626\ttest: 0.1866769\tbest: 0.1866769 (1250)\ttotal: 1m 36s\tremaining: 4m 48s\n",
            "1300:\tlearn: 0.1765522\ttest: 0.1866301\tbest: 0.1866301 (1300)\ttotal: 1m 39s\tremaining: 4m 43s\n",
            "1350:\tlearn: 0.1760759\ttest: 0.1865918\tbest: 0.1865918 (1350)\ttotal: 1m 43s\tremaining: 4m 38s\n",
            "1400:\tlearn: 0.1755983\ttest: 0.1865371\tbest: 0.1865371 (1400)\ttotal: 1m 46s\tremaining: 4m 33s\n",
            "1450:\tlearn: 0.1751200\ttest: 0.1864940\tbest: 0.1864940 (1450)\ttotal: 1m 50s\tremaining: 4m 29s\n",
            "1500:\tlearn: 0.1746085\ttest: 0.1864456\tbest: 0.1864456 (1500)\ttotal: 1m 54s\tremaining: 4m 26s\n",
            "1550:\tlearn: 0.1741453\ttest: 0.1864112\tbest: 0.1864109 (1549)\ttotal: 1m 57s\tremaining: 4m 21s\n",
            "1600:\tlearn: 0.1736110\ttest: 0.1863882\tbest: 0.1863882 (1600)\ttotal: 2m 1s\tremaining: 4m 17s\n",
            "1650:\tlearn: 0.1731386\ttest: 0.1863687\tbest: 0.1863687 (1650)\ttotal: 2m 4s\tremaining: 4m 13s\n",
            "1700:\tlearn: 0.1726347\ttest: 0.1863400\tbest: 0.1863397 (1699)\ttotal: 2m 8s\tremaining: 4m 8s\n",
            "1750:\tlearn: 0.1721618\ttest: 0.1863212\tbest: 0.1863207 (1749)\ttotal: 2m 11s\tremaining: 4m 4s\n",
            "1800:\tlearn: 0.1717099\ttest: 0.1863051\tbest: 0.1863032 (1798)\ttotal: 2m 15s\tremaining: 4m\n",
            "1850:\tlearn: 0.1711945\ttest: 0.1862789\tbest: 0.1862789 (1850)\ttotal: 2m 18s\tremaining: 3m 56s\n",
            "1900:\tlearn: 0.1707412\ttest: 0.1862652\tbest: 0.1862644 (1898)\ttotal: 2m 22s\tremaining: 3m 51s\n",
            "1950:\tlearn: 0.1702376\ttest: 0.1862453\tbest: 0.1862452 (1949)\ttotal: 2m 25s\tremaining: 3m 47s\n",
            "2000:\tlearn: 0.1697670\ttest: 0.1862156\tbest: 0.1862156 (2000)\ttotal: 2m 29s\tremaining: 3m 43s\n",
            "2050:\tlearn: 0.1693042\ttest: 0.1861786\tbest: 0.1861786 (2050)\ttotal: 2m 32s\tremaining: 3m 39s\n",
            "2100:\tlearn: 0.1688756\ttest: 0.1861573\tbest: 0.1861559 (2098)\ttotal: 2m 36s\tremaining: 3m 35s\n",
            "Stopped by overfitting detector  (20 iterations wait)\n",
            "\n",
            "bestTest = 0.1861535341\n",
            "bestIteration = 2111\n",
            "\n",
            "Shrink model to first 2112 iterations.\n"
          ]
        },
        {
          "output_type": "execute_result",
          "data": {
            "text/plain": [
              "<catboost.core.CatBoostRegressor at 0x7ff94ae3b590>"
            ]
          },
          "metadata": {},
          "execution_count": 48
        }
      ]
    },
    {
      "cell_type": "code",
      "source": [
        "y_pred9=cat_tuned.predict(X_test)\n",
        "y_pred9=y_pred9.reshape(29092,1)\n",
        "RMSE_cat_tuned=np.sqrt(metrics.mean_squared_error(Y_test, y_pred9))\n",
        "print('Root Mean Squared Error:', RMSE_cat_tuned)"
      ],
      "metadata": {
        "id": "UgYmwX8otu-f",
        "colab": {
          "base_uri": "https://localhost:8080/"
        },
        "outputId": "fde23b77-8557-4970-97b2-bbfe508b9877"
      },
      "execution_count": null,
      "outputs": [
        {
          "output_type": "stream",
          "name": "stdout",
          "text": [
            "Root Mean Squared Error: 0.1861535336740465\n"
          ]
        }
      ]
    },
    {
      "cell_type": "code",
      "source": [
        "from sklearn.metrics import r2_score\n",
        "r2 = r2_score(Y_test, y_pred9)\n",
        "print(r2)"
      ],
      "metadata": {
        "id": "b7xXDqw3j5H5",
        "colab": {
          "base_uri": "https://localhost:8080/"
        },
        "outputId": "6eaf2a7a-6320-4f9a-94c8-55d4943e360e"
      },
      "execution_count": null,
      "outputs": [
        {
          "output_type": "stream",
          "name": "stdout",
          "text": [
            "0.9437966893686965\n"
          ]
        }
      ]
    },
    {
      "cell_type": "code",
      "source": [
        "x=['CatBoost','Cat_Tuned']\n",
        "y=[RMSE_cat,RMSE_cat_tuned]\n",
        "plt.bar(x,y)\n",
        "plt.xlabel('Models')\n",
        "plt.ylabel('RMSE Values')\n",
        "plt.title('Comparison of models on RMSE')\n",
        "\n",
        "\n",
        "# function to add value labels\n",
        "def addlabels(x,y):\n",
        "    for i in range(len(x)):\n",
        "        plt.text(i,    y[i],\"{:.5f}\".format(y[i]), ha = 'center')\n",
        "addlabels(x,y)\n",
        "plt.show()"
      ],
      "metadata": {
        "colab": {
          "base_uri": "https://localhost:8080/",
          "height": 296
        },
        "id": "WKBHQTpwL0Nk",
        "outputId": "accb9494-203a-46d3-9413-16ed59bb56c0"
      },
      "execution_count": null,
      "outputs": [
        {
          "output_type": "display_data",
          "data": {
            "text/plain": [
              "<Figure size 432x288 with 1 Axes>"
            ],
            "image/png": "[encoded data removed]"
          },
          "metadata": {
            "needs_background": "light"
          }
        }
      ]
    },
    {
      "cell_type": "markdown",
      "source": [
        "#Saving Model"
      ],
      "metadata": {
        "id": "MMEDQqVD-qD3"
      }
    },
    {
      "cell_type": "code",
      "source": [
        "import pickle\n",
        "with open('Rainfall_pkl', 'wb') as files:\n",
        "    pickle.dump(cat_tuned, files)"
      ],
      "metadata": {
        "id": "rLDkeJCgUw0I"
      },
      "execution_count": null,
      "outputs": []
    },
    {
      "cell_type": "code",
      "source": [
        "'''with open('Rainfall_pkl' , 'rb') as f:\n",
        "    lr = pickle.load(f)'''"
      ],
      "metadata": {
        "id": "5uRl9MFwWTSi",
        "colab": {
          "base_uri": "https://localhost:8080/",
          "height": 35
        },
        "outputId": "9aa51681-5b1a-49f5-d869-90db9752a08b"
      },
      "execution_count": null,
      "outputs": [
        {
          "output_type": "execute_result",
          "data": {
            "text/plain": [
              "\"with open('Rainfall_pkl' , 'rb') as f:\\n    lr = pickle.load(f)\""
            ],
            "application/vnd.google.colaboratory.intrinsic+json": {
              "type": "string"
            }
          },
          "metadata": {},
          "execution_count": 53
        }
      ]
    }
  ],
  "metadata": {
    "colab": {
      "name": "Rainfall Prediction Using Regression.ipynb",
      "provenance": [],
      "collapsed_sections": [
        "mWfo7MnurwHE",
        "hyC69l-8sA9g",
        "fAeO1b08KWb6",
        "79kKpgpchAxA",
        "_PdrDiBThdec",
        "pqCLPq0Jtyky",
        "JF4Z1fP5uN0z",
        "8lY7zwcpuk-M",
        "VbN-HtHKh82j",
        "nB1veZ1Xii1s",
        "JPt4YmLrinZD",
        "OvLBuwtUipIb",
        "WVolD1KMPL4l"
      ]
    },
    "kernelspec": {
      "display_name": "Python 3",
      "name": "python3"
    },
    "language_info": {
      "name": "python"
    },
    "widgets": {
      "application/vnd.jupyter.widget-state+json": {
        "c5b6f95ab49147809b0d7edd3c2bda14": {
          "model_module": "catboost-widget",
          "model_name": "CatboostWidgetModel",
          "model_module_version": "^1.0.0",
          "state": {
            "_dom_classes": [],
            "_model_module": "catboost-widget",
            "_model_module_version": "^1.0.0",
            "_model_name": "CatboostWidgetModel",
            "_view_count": null,
            "_view_module": "catboost-widget",
            "_view_module_version": "^1.0.0",
            "_view_name": "CatboostWidgetView",
            "data": {
              "catboost_info": {
                "path": "catboost_info",
                "name": "catboost_info",
                "content": {
                  "passed_iterations": 2100,
                  "total_iterations": 5000,
                  "data": {
                    "iterations": [
                      {
                        "learn": [
                          0.7802980467
                        ],
                        "iteration": 0,
                        "passed_time": 0.2331179162,
                        "remaining_time": 1165.356463,
                        "test": [
                          0.7779055017
                        ]
                      },
                      {
                        "learn": [
                          0.4976048669
                        ],
                        "iteration": 50,
                        "passed_time": 7.322852682,
                        "remaining_time": 710.6038809,
                        "test": [
                          0.4962063059
                        ]
                      },
                      {
                        "learn": [
                          0.3387409674
                        ],
                        "iteration": 100,
                        "passed_time": 14.09328499,
                        "remaining_time": 683.5940908,
                        "test": [
                          0.3377671671
                        ]
                      },
                      {
                        "learn": [
                          0.2561635433
                        ],
                        "iteration": 150,
                        "passed_time": 20.32849348,
                        "remaining_time": 652.8004296,
                        "test": [
                          0.2553461041
                        ]
                      },
                      {
                        "learn": [
                          0.217423514
                        ],
                        "iteration": 200,
                        "passed_time": 23.76436361,
                        "remaining_time": 567.3889601,
                        "test": [
                          0.2167610189
                        ]
                      },
                      {
                        "learn": [
                          0.2006598651
                        ],
                        "iteration": 250,
                        "passed_time": 26.80474088,
                        "remaining_time": 507.1542407,
                        "test": [
                          0.200239666
                        ]
                      },
                      {
                        "learn": [
                          0.1934453402
                        ],
                        "iteration": 300,
                        "passed_time": 30.22058506,
                        "remaining_time": 471.782489,
                        "test": [
                          0.1934088964
                        ]
                      },
                      {
                        "learn": [
                          0.1901711794
                        ],
                        "iteration": 350,
                        "passed_time": 33.46350044,
                        "remaining_time": 443.22454,
                        "test": [
                          0.190561234
                        ]
                      },
                      {
                        "learn": [
                          0.1883589683
                        ],
                        "iteration": 400,
                        "passed_time": 36.75703818,
                        "remaining_time": 421.5601461,
                        "test": [
                          0.1892613591
                        ]
                      },
                      {
                        "learn": [
                          0.1871046397
                        ],
                        "iteration": 450,
                        "passed_time": 39.9888802,
                        "remaining_time": 403.3468205,
                        "test": [
                          0.1886019479
                        ]
                      },
                      {
                        "learn": [
                          0.1861338996
                        ],
                        "iteration": 500,
                        "passed_time": 43.40552009,
                        "remaining_time": 389.7833032,
                        "test": [
                          0.1881991919
                        ]
                      },
                      {
                        "learn": [
                          0.1852270201
                        ],
                        "iteration": 550,
                        "passed_time": 46.94533847,
                        "remaining_time": 379.055918,
                        "test": [
                          0.1879224135
                        ]
                      },
                      {
                        "learn": [
                          0.1844637721
                        ],
                        "iteration": 600,
                        "passed_time": 50.40375754,
                        "remaining_time": 368.9286679,
                        "test": [
                          0.1877277469
                        ]
                      },
                      {
                        "learn": [
                          0.1837356096
                        ],
                        "iteration": 650,
                        "passed_time": 53.93074754,
                        "remaining_time": 360.2839033,
                        "test": [
                          0.1875707289
                        ]
                      },
                      {
                        "learn": [
                          0.1831109739
                        ],
                        "iteration": 700,
                        "passed_time": 57.40953338,
                        "remaining_time": 352.0735863,
                        "test": [
                          0.1874511314
                        ]
                      },
                      {
                        "learn": [
                          0.1825226829
                        ],
                        "iteration": 750,
                        "passed_time": 60.94338331,
                        "remaining_time": 344.8048411,
                        "test": [
                          0.187352094
                        ]
                      },
                      {
                        "learn": [
                          0.1819205345
                        ],
                        "iteration": 800,
                        "passed_time": 64.46289061,
                        "remaining_time": 337.9271881,
                        "test": [
                          0.1872528849
                        ]
                      },
                      {
                        "learn": [
                          0.1812928049
                        ],
                        "iteration": 850,
                        "passed_time": 68.06105481,
                        "remaining_time": 331.8276339,
                        "test": [
                          0.1871574331
                        ]
                      },
                      {
                        "learn": [
                          0.1807044521
                        ],
                        "iteration": 900,
                        "passed_time": 71.65916684,
                        "remaining_time": 326.005466,
                        "test": [
                          0.18708884
                        ]
                      },
                      {
                        "learn": [
                          0.1801538828
                        ],
                        "iteration": 950,
                        "passed_time": 75.19371829,
                        "remaining_time": 320.1465461,
                        "test": [
                          0.18701321
                        ]
                      },
                      {
                        "learn": [
                          0.1795825871
                        ],
                        "iteration": 1000,
                        "passed_time": 78.76231688,
                        "remaining_time": 314.6558493,
                        "test": [
                          0.18694532
                        ]
                      },
                      {
                        "learn": [
                          0.1790463752
                        ],
                        "iteration": 1050,
                        "passed_time": 82.28081832,
                        "remaining_time": 309.1598016,
                        "test": [
                          0.1868734401
                        ]
                      },
                      {
                        "learn": [
                          0.1785249925
                        ],
                        "iteration": 1100,
                        "passed_time": 85.65997367,
                        "remaining_time": 303.3498977,
                        "test": [
                          0.1868297644
                        ]
                      },
                      {
                        "learn": [
                          0.1779815487
                        ],
                        "iteration": 1150,
                        "passed_time": 89.18853157,
                        "remaining_time": 298.2507889,
                        "test": [
                          0.1867713292
                        ]
                      },
                      {
                        "learn": [
                          0.1775184143
                        ],
                        "iteration": 1200,
                        "passed_time": 92.66319132,
                        "remaining_time": 293.1119599,
                        "test": [
                          0.1867167325
                        ]
                      },
                      {
                        "learn": [
                          0.1770625845
                        ],
                        "iteration": 1250,
                        "passed_time": 96.13217054,
                        "remaining_time": 288.0891346,
                        "test": [
                          0.186676879
                        ]
                      },
                      {
                        "learn": [
                          0.176552247
                        ],
                        "iteration": 1300,
                        "passed_time": 99.60803846,
                        "remaining_time": 283.20533,
                        "test": [
                          0.1866301106
                        ]
                      },
                      {
                        "learn": [
                          0.1760759311
                        ],
                        "iteration": 1350,
                        "passed_time": 103.1367105,
                        "remaining_time": 278.5683616,
                        "test": [
                          0.1865918374
                        ]
                      },
                      {
                        "learn": [
                          0.175598317
                        ],
                        "iteration": 1400,
                        "passed_time": 106.632939,
                        "remaining_time": 273.9271574,
                        "test": [
                          0.1865371155
                        ]
                      },
                      {
                        "learn": [
                          0.1751200434
                        ],
                        "iteration": 1450,
                        "passed_time": 110.3225519,
                        "remaining_time": 269.8378611,
                        "test": [
                          0.1864939721
                        ]
                      },
                      {
                        "learn": [
                          0.1746085173
                        ],
                        "iteration": 1500,
                        "passed_time": 114.3680026,
                        "remaining_time": 266.6046909,
                        "test": [
                          0.1864455869
                        ]
                      },
                      {
                        "learn": [
                          0.1741452728
                        ],
                        "iteration": 1550,
                        "passed_time": 117.7763907,
                        "remaining_time": 261.9024962,
                        "test": [
                          0.1864111758
                        ]
                      },
                      {
                        "learn": [
                          0.1736109829
                        ],
                        "iteration": 1600,
                        "passed_time": 121.3120971,
                        "remaining_time": 257.5514165,
                        "test": [
                          0.1863882154
                        ]
                      },
                      {
                        "learn": [
                          0.1731385664
                        ],
                        "iteration": 1650,
                        "passed_time": 124.7954479,
                        "remaining_time": 253.1435222,
                        "test": [
                          0.1863686677
                        ]
                      },
                      {
                        "learn": [
                          0.1726346715
                        ],
                        "iteration": 1700,
                        "passed_time": 128.2938276,
                        "remaining_time": 248.8191284,
                        "test": [
                          0.18633995
                        ]
                      },
                      {
                        "learn": [
                          0.1721618096
                        ],
                        "iteration": 1750,
                        "passed_time": 131.8316206,
                        "remaining_time": 244.6150401,
                        "test": [
                          0.1863212208
                        ]
                      },
                      {
                        "learn": [
                          0.1717098656
                        ],
                        "iteration": 1800,
                        "passed_time": 135.2557511,
                        "remaining_time": 240.2460566,
                        "test": [
                          0.1863051251
                        ]
                      },
                      {
                        "learn": [
                          0.1711944724
                        ],
                        "iteration": 1850,
                        "passed_time": 138.7408766,
                        "remaining_time": 236.0318857,
                        "test": [
                          0.1862788788
                        ]
                      },
                      {
                        "learn": [
                          0.1707412493
                        ],
                        "iteration": 1900,
                        "passed_time": 142.252313,
                        "remaining_time": 231.8989575,
                        "test": [
                          0.186265187
                        ]
                      },
                      {
                        "learn": [
                          0.1702376156
                        ],
                        "iteration": 1950,
                        "passed_time": 145.7334021,
                        "remaining_time": 227.7504578,
                        "test": [
                          0.1862453325
                        ]
                      },
                      {
                        "learn": [
                          0.1697669862
                        ],
                        "iteration": 2000,
                        "passed_time": 149.2171677,
                        "remaining_time": 223.6393233,
                        "test": [
                          0.1862155738
                        ]
                      },
                      {
                        "learn": [
                          0.169304209
                        ],
                        "iteration": 2050,
                        "passed_time": 152.7408601,
                        "remaining_time": 219.6161855,
                        "test": [
                          0.1861785966
                        ]
                      },
                      {
                        "learn": [
                          0.1688755832
                        ],
                        "iteration": 2100,
                        "passed_time": 156.2327242,
                        "remaining_time": 215.5729022,
                        "test": [
                          0.1861572708
                        ]
                      }
                    ],
                    "meta": {
                      "test_sets": [
                        "test"
                      ],
                      "test_metrics": [
                        {
                          "best_value": "Min",
                          "name": "RMSE"
                        }
                      ],
                      "learn_metrics": [
                        {
                          "best_value": "Min",
                          "name": "RMSE"
                        }
                      ],
                      "launch_mode": "Train",
                      "parameters": "",
                      "iteration_count": 5000,
                      "learn_sets": [
                        "learn"
                      ],
                      "name": "experiment"
                    }
                  }
                }
              }
            },
            "layout": "IPY_MODEL_2f5d2ede7a974e6896e827a2d591520a"
          }
        }
      }
    }
  },
  "nbformat": 4,
  "nbformat_minor": 0
}